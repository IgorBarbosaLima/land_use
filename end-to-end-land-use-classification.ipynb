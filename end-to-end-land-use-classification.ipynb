{
 "cells": [
  {
   "cell_type": "markdown",
   "id": "943d6982",
   "metadata": {},
   "source": [
    "# Predicting Land Use using machine learning\n",
    "\n",
    "## What is classification?\n",
    "\n",
    "Classification involves deciding whether a sample is part of one class or another (single-class classification). If there are multiple class options, it's referred to as multi-class classification.\n",
    "\n",
    "\n",
    "#### Problem Definition\n",
    "In our case, the problem we will be exploring is multiclass classification (a sample can be one of three labels).\n",
    "\n",
    "In a statement,\n",
    "\n",
    "Given physicochemicals parameters about a stream, can we predict the land use?\n",
    "\n",
    "#### Data\n",
    "\n",
    "Data obtained from collections carried out between October 2014 and March 2015 in streams of the Rio das Mortes sub-basin, on the outskirts of São João del Rei, MG - Brazil. The multiparameter probe YSI 556 MPS, U.S.A. was used. The data underwent logarithmic transformation for normalization.\n",
    "\n",
    "#### Evaluation\n",
    "\n",
    "If we can reach 80% accuracy at predicting what is the land use category to which that stream belongs during the proof of concept, we'll pursure this project.\n",
    "\n",
    "#### Features\n",
    "\n",
    "The following are the features we'll use to predict our target variable (land use category).\n",
    "\n",
    "1. streaam : name of the stream\n",
    "2. temperature : temperature in °C\n",
    "3. conductivity   : conductivity in μS/cm-1\n",
    "4. odc\t: dissolved oxygen inmg/L\n",
    "5. pH   : pH  in a 0:14\trange\n",
    "6. discharge : discharge in m3/s-1\n",
    "7. target - land use category (2=Agricultural, 1=Urban, 0=Natural) (= the predicted attribute)\n",
    "\n",
    "\n",
    "\n",
    "#### Preparing the tools\n",
    "\n",
    "pandas for data analysis.\n",
    "NumPy for numerical operations.\n",
    "Matplotlib/seaborn for plotting or data visualization.\n",
    "Scikit-Learn for machine learning modelling and evaluation."
   ]
  },
  {
   "cell_type": "markdown",
   "id": "559aec58",
   "metadata": {},
   "source": [
    "# Preparing the tools\n",
    "We're going to use Pandas, Matplotlib and NumPy for data analyisis and manipulation."
   ]
  },
  {
   "cell_type": "code",
   "execution_count": 28,
   "id": "bf9432ce",
   "metadata": {},
   "outputs": [],
   "source": [
    "# Regular EDA and plotting libraries\n",
    "import numpy as np # np is short for numpy\n",
    "import pandas as pd # pandas is so commonly used, it's shortened to pd\n",
    "import matplotlib.pyplot as plt\n",
    "import seaborn as sns # seaborn gets shortened to sns\n",
    "\n",
    "# We want our plots to appear in the notebook\n",
    "%matplotlib inline \n",
    "\n",
    "## Models\n",
    "from sklearn.linear_model import LogisticRegression\n",
    "from sklearn.neighbors import KNeighborsClassifier\n",
    "from sklearn.ensemble import RandomForestClassifier\n",
    "\n",
    "## Model evaluators\n",
    "from sklearn.model_selection import train_test_split, cross_val_score, RandomizedSearchCV, GridSearchCV\n",
    "from sklearn.metrics import confusion_matrix, classification_report\n",
    "from sklearn.metrics import precision_score, recall_score, f1_score\n",
    "from sklearn.metrics import plot_roc_curve"
   ]
  },
  {
   "cell_type": "markdown",
   "id": "39e5c62b",
   "metadata": {},
   "source": [
    "# Load Data\n",
    "\n",
    "Pandas has a built-in function to read .csv files called read_csv() which takes the file pathname of your .csv file. "
   ]
  },
  {
   "cell_type": "code",
   "execution_count": 74,
   "id": "ecae07d9",
   "metadata": {},
   "outputs": [
    {
     "data": {
      "text/plain": [
       "(115, 7)"
      ]
     },
     "execution_count": 74,
     "metadata": {},
     "output_type": "execute_result"
    }
   ],
   "source": [
    "df = pd.read_csv(\"riodasmortes.csv\") # 'DataFrame' shortened to 'df'\n",
    "df.shape # (rows, columns)"
   ]
  },
  {
   "cell_type": "markdown",
   "id": "cb580f9b",
   "metadata": {},
   "source": [
    "\n",
    "## Exploratory data analysis (EDA)\n"
   ]
  },
  {
   "cell_type": "code",
   "execution_count": 75,
   "id": "a89609de",
   "metadata": {},
   "outputs": [
    {
     "data": {
      "text/html": [
       "<div>\n",
       "<style scoped>\n",
       "    .dataframe tbody tr th:only-of-type {\n",
       "        vertical-align: middle;\n",
       "    }\n",
       "\n",
       "    .dataframe tbody tr th {\n",
       "        vertical-align: top;\n",
       "    }\n",
       "\n",
       "    .dataframe thead th {\n",
       "        text-align: right;\n",
       "    }\n",
       "</style>\n",
       "<table border=\"1\" class=\"dataframe\">\n",
       "  <thead>\n",
       "    <tr style=\"text-align: right;\">\n",
       "      <th></th>\n",
       "      <th>stream</th>\n",
       "      <th>temperature</th>\n",
       "      <th>conductivity</th>\n",
       "      <th>doc</th>\n",
       "      <th>pH</th>\n",
       "      <th>discharge</th>\n",
       "      <th>target</th>\n",
       "    </tr>\n",
       "  </thead>\n",
       "  <tbody>\n",
       "    <tr>\n",
       "      <th>0</th>\n",
       "      <td>Oficina</td>\n",
       "      <td>1.273001</td>\n",
       "      <td>1.732394</td>\n",
       "      <td>0.828660</td>\n",
       "      <td>0.757396</td>\n",
       "      <td>-1.987163</td>\n",
       "      <td>1</td>\n",
       "    </tr>\n",
       "    <tr>\n",
       "      <th>1</th>\n",
       "      <td>Oficina</td>\n",
       "      <td>1.311118</td>\n",
       "      <td>1.633468</td>\n",
       "      <td>0.804139</td>\n",
       "      <td>0.733999</td>\n",
       "      <td>-1.723538</td>\n",
       "      <td>1</td>\n",
       "    </tr>\n",
       "    <tr>\n",
       "      <th>2</th>\n",
       "      <td>Oficina</td>\n",
       "      <td>1.327972</td>\n",
       "      <td>1.681241</td>\n",
       "      <td>0.705864</td>\n",
       "      <td>0.773786</td>\n",
       "      <td>-2.075721</td>\n",
       "      <td>1</td>\n",
       "    </tr>\n",
       "    <tr>\n",
       "      <th>3</th>\n",
       "      <td>Oficina</td>\n",
       "      <td>1.302331</td>\n",
       "      <td>1.612784</td>\n",
       "      <td>0.777427</td>\n",
       "      <td>0.762679</td>\n",
       "      <td>-1.661544</td>\n",
       "      <td>1</td>\n",
       "    </tr>\n",
       "    <tr>\n",
       "      <th>4</th>\n",
       "      <td>Oficina</td>\n",
       "      <td>1.342423</td>\n",
       "      <td>1.612784</td>\n",
       "      <td>0.662758</td>\n",
       "      <td>0.781755</td>\n",
       "      <td>-1.732822</td>\n",
       "      <td>1</td>\n",
       "    </tr>\n",
       "  </tbody>\n",
       "</table>\n",
       "</div>"
      ],
      "text/plain": [
       "    stream  temperature  conductivity       doc        pH  discharge  target\n",
       "0  Oficina     1.273001      1.732394  0.828660  0.757396  -1.987163       1\n",
       "1  Oficina     1.311118      1.633468  0.804139  0.733999  -1.723538       1\n",
       "2  Oficina     1.327972      1.681241  0.705864  0.773786  -2.075721       1\n",
       "3  Oficina     1.302331      1.612784  0.777427  0.762679  -1.661544       1\n",
       "4  Oficina     1.342423      1.612784  0.662758  0.781755  -1.732822       1"
      ]
     },
     "execution_count": 75,
     "metadata": {},
     "output_type": "execute_result"
    }
   ],
   "source": [
    "# Let's check the top 5 rows of our dataframe\n",
    "df.head()"
   ]
  },
  {
   "cell_type": "code",
   "execution_count": 76,
   "id": "5f0cb4c9",
   "metadata": {},
   "outputs": [
    {
     "data": {
      "text/html": [
       "<div>\n",
       "<style scoped>\n",
       "    .dataframe tbody tr th:only-of-type {\n",
       "        vertical-align: middle;\n",
       "    }\n",
       "\n",
       "    .dataframe tbody tr th {\n",
       "        vertical-align: top;\n",
       "    }\n",
       "\n",
       "    .dataframe thead th {\n",
       "        text-align: right;\n",
       "    }\n",
       "</style>\n",
       "<table border=\"1\" class=\"dataframe\">\n",
       "  <thead>\n",
       "    <tr style=\"text-align: right;\">\n",
       "      <th></th>\n",
       "      <th>stream</th>\n",
       "      <th>temperature</th>\n",
       "      <th>conductivity</th>\n",
       "      <th>doc</th>\n",
       "      <th>pH</th>\n",
       "      <th>discharge</th>\n",
       "      <th>target</th>\n",
       "    </tr>\n",
       "  </thead>\n",
       "  <tbody>\n",
       "    <tr>\n",
       "      <th>0</th>\n",
       "      <td>Oficina</td>\n",
       "      <td>1.273001</td>\n",
       "      <td>1.732394</td>\n",
       "      <td>0.828660</td>\n",
       "      <td>0.757396</td>\n",
       "      <td>-1.987163</td>\n",
       "      <td>1</td>\n",
       "    </tr>\n",
       "    <tr>\n",
       "      <th>1</th>\n",
       "      <td>Oficina</td>\n",
       "      <td>1.311118</td>\n",
       "      <td>1.633468</td>\n",
       "      <td>0.804139</td>\n",
       "      <td>0.733999</td>\n",
       "      <td>-1.723538</td>\n",
       "      <td>1</td>\n",
       "    </tr>\n",
       "    <tr>\n",
       "      <th>2</th>\n",
       "      <td>Oficina</td>\n",
       "      <td>1.327972</td>\n",
       "      <td>1.681241</td>\n",
       "      <td>0.705864</td>\n",
       "      <td>0.773786</td>\n",
       "      <td>-2.075721</td>\n",
       "      <td>1</td>\n",
       "    </tr>\n",
       "    <tr>\n",
       "      <th>3</th>\n",
       "      <td>Oficina</td>\n",
       "      <td>1.302331</td>\n",
       "      <td>1.612784</td>\n",
       "      <td>0.777427</td>\n",
       "      <td>0.762679</td>\n",
       "      <td>-1.661544</td>\n",
       "      <td>1</td>\n",
       "    </tr>\n",
       "    <tr>\n",
       "      <th>4</th>\n",
       "      <td>Oficina</td>\n",
       "      <td>1.342423</td>\n",
       "      <td>1.612784</td>\n",
       "      <td>0.662758</td>\n",
       "      <td>0.781755</td>\n",
       "      <td>-1.732822</td>\n",
       "      <td>1</td>\n",
       "    </tr>\n",
       "    <tr>\n",
       "      <th>5</th>\n",
       "      <td>Oficina</td>\n",
       "      <td>1.318063</td>\n",
       "      <td>1.568202</td>\n",
       "      <td>0.822168</td>\n",
       "      <td>0.788168</td>\n",
       "      <td>-1.804100</td>\n",
       "      <td>1</td>\n",
       "    </tr>\n",
       "    <tr>\n",
       "      <th>6</th>\n",
       "      <td>SCAetano</td>\n",
       "      <td>1.339451</td>\n",
       "      <td>1.322219</td>\n",
       "      <td>0.591065</td>\n",
       "      <td>0.705008</td>\n",
       "      <td>-2.767004</td>\n",
       "      <td>1</td>\n",
       "    </tr>\n",
       "    <tr>\n",
       "      <th>7</th>\n",
       "      <td>SCAetano</td>\n",
       "      <td>1.362671</td>\n",
       "      <td>1.079181</td>\n",
       "      <td>0.526339</td>\n",
       "      <td>0.549003</td>\n",
       "      <td>-2.671620</td>\n",
       "      <td>1</td>\n",
       "    </tr>\n",
       "    <tr>\n",
       "      <th>8</th>\n",
       "      <td>SCAetano</td>\n",
       "      <td>1.388634</td>\n",
       "      <td>1.230449</td>\n",
       "      <td>0.428135</td>\n",
       "      <td>0.724276</td>\n",
       "      <td>-2.749580</td>\n",
       "      <td>1</td>\n",
       "    </tr>\n",
       "    <tr>\n",
       "      <th>9</th>\n",
       "      <td>SCAetano</td>\n",
       "      <td>1.322012</td>\n",
       "      <td>1.322219</td>\n",
       "      <td>0.404834</td>\n",
       "      <td>0.699838</td>\n",
       "      <td>-2.806875</td>\n",
       "      <td>1</td>\n",
       "    </tr>\n",
       "  </tbody>\n",
       "</table>\n",
       "</div>"
      ],
      "text/plain": [
       "     stream  temperature  conductivity       doc        pH  discharge  target\n",
       "0   Oficina     1.273001      1.732394  0.828660  0.757396  -1.987163       1\n",
       "1   Oficina     1.311118      1.633468  0.804139  0.733999  -1.723538       1\n",
       "2   Oficina     1.327972      1.681241  0.705864  0.773786  -2.075721       1\n",
       "3   Oficina     1.302331      1.612784  0.777427  0.762679  -1.661544       1\n",
       "4   Oficina     1.342423      1.612784  0.662758  0.781755  -1.732822       1\n",
       "5   Oficina     1.318063      1.568202  0.822168  0.788168  -1.804100       1\n",
       "6  SCAetano     1.339451      1.322219  0.591065  0.705008  -2.767004       1\n",
       "7  SCAetano     1.362671      1.079181  0.526339  0.549003  -2.671620       1\n",
       "8  SCAetano     1.388634      1.230449  0.428135  0.724276  -2.749580       1\n",
       "9  SCAetano     1.322012      1.322219  0.404834  0.699838  -2.806875       1"
      ]
     },
     "execution_count": 76,
     "metadata": {},
     "output_type": "execute_result"
    }
   ],
   "source": [
    "# And the top 10\n",
    "df.head(10)"
   ]
  },
  {
   "cell_type": "markdown",
   "id": "0f4cde9e",
   "metadata": {},
   "source": [
    "value_counts() allows you to show how many times each of the values of a categorical column appear."
   ]
  },
  {
   "cell_type": "code",
   "execution_count": 77,
   "id": "9d0da0e7",
   "metadata": {},
   "outputs": [
    {
     "data": {
      "text/plain": [
       "1    46\n",
       "0    39\n",
       "2    30\n",
       "Name: target, dtype: int64"
      ]
     },
     "execution_count": 77,
     "metadata": {},
     "output_type": "execute_result"
    }
   ],
   "source": [
    "# Let's see how many positive (1) and negative (0) samples we have in our dataframe\n",
    "df.target.value_counts()"
   ]
  },
  {
   "cell_type": "markdown",
   "id": "9bf54d56",
   "metadata": {},
   "source": [
    "An unbalanced target column, meaning some classes have far more samples, can be harder to model than a balanced set. Ideally, all of your target classes have the same number of samples."
   ]
  },
  {
   "cell_type": "code",
   "execution_count": 78,
   "id": "aa058e25",
   "metadata": {},
   "outputs": [
    {
     "data": {
      "text/plain": [
       "1    0.40000\n",
       "0    0.33913\n",
       "2    0.26087\n",
       "Name: target, dtype: float64"
      ]
     },
     "execution_count": 78,
     "metadata": {},
     "output_type": "execute_result"
    }
   ],
   "source": [
    "# Normalized value counts\n",
    "df.target.value_counts(normalize=True)"
   ]
  },
  {
   "cell_type": "code",
   "execution_count": 79,
   "id": "61817db8",
   "metadata": {},
   "outputs": [
    {
     "data": {
      "image/png": "[encoded data removed]",
      "text/plain": [
       "<Figure size 432x288 with 1 Axes>"
      ]
     },
     "metadata": {
      "needs_background": "light"
     },
     "output_type": "display_data"
    }
   ],
   "source": [
    "df.target.value_counts().plot(kind=\"bar\", color=[\"salmon\", \"lightblue\"]);"
   ]
  },
  {
   "cell_type": "markdown",
   "id": "d1d6e136",
   "metadata": {},
   "source": [
    "df.info() shows a quick insight to the number of missing values you have and what type of data your working with.\n",
    "\n",
    "In our case, there are no missing values and the column 'stream' is not numerical in nature."
   ]
  },
  {
   "cell_type": "code",
   "execution_count": 80,
   "id": "44ed76a6",
   "metadata": {},
   "outputs": [
    {
     "name": "stdout",
     "output_type": "stream",
     "text": [
      "<class 'pandas.core.frame.DataFrame'>\n",
      "RangeIndex: 115 entries, 0 to 114\n",
      "Data columns (total 7 columns):\n",
      " #   Column        Non-Null Count  Dtype  \n",
      "---  ------        --------------  -----  \n",
      " 0   stream        115 non-null    object \n",
      " 1   temperature   115 non-null    float64\n",
      " 2   conductivity  115 non-null    float64\n",
      " 3   doc           115 non-null    float64\n",
      " 4   pH            115 non-null    float64\n",
      " 5   discharge     115 non-null    float64\n",
      " 6   target        115 non-null    int64  \n",
      "dtypes: float64(5), int64(1), object(1)\n",
      "memory usage: 6.4+ KB\n"
     ]
    }
   ],
   "source": [
    "df.info()"
   ]
  },
  {
   "cell_type": "code",
   "execution_count": 81,
   "id": "321918e9",
   "metadata": {},
   "outputs": [
    {
     "data": {
      "text/html": [
       "<div>\n",
       "<style scoped>\n",
       "    .dataframe tbody tr th:only-of-type {\n",
       "        vertical-align: middle;\n",
       "    }\n",
       "\n",
       "    .dataframe tbody tr th {\n",
       "        vertical-align: top;\n",
       "    }\n",
       "\n",
       "    .dataframe thead th {\n",
       "        text-align: right;\n",
       "    }\n",
       "</style>\n",
       "<table border=\"1\" class=\"dataframe\">\n",
       "  <thead>\n",
       "    <tr style=\"text-align: right;\">\n",
       "      <th></th>\n",
       "      <th>temperature</th>\n",
       "      <th>conductivity</th>\n",
       "      <th>doc</th>\n",
       "      <th>pH</th>\n",
       "      <th>discharge</th>\n",
       "      <th>target</th>\n",
       "    </tr>\n",
       "  </thead>\n",
       "  <tbody>\n",
       "    <tr>\n",
       "      <th>count</th>\n",
       "      <td>115.000000</td>\n",
       "      <td>115.000000</td>\n",
       "      <td>115.000000</td>\n",
       "      <td>115.000000</td>\n",
       "      <td>115.000000</td>\n",
       "      <td>115.000000</td>\n",
       "    </tr>\n",
       "    <tr>\n",
       "      <th>mean</th>\n",
       "      <td>1.337926</td>\n",
       "      <td>1.411121</td>\n",
       "      <td>0.629784</td>\n",
       "      <td>0.716517</td>\n",
       "      <td>-1.754893</td>\n",
       "      <td>0.921739</td>\n",
       "    </tr>\n",
       "    <tr>\n",
       "      <th>std</th>\n",
       "      <td>0.039628</td>\n",
       "      <td>0.480958</td>\n",
       "      <td>0.441406</td>\n",
       "      <td>0.222101</td>\n",
       "      <td>0.805205</td>\n",
       "      <td>0.774006</td>\n",
       "    </tr>\n",
       "    <tr>\n",
       "      <th>min</th>\n",
       "      <td>1.243534</td>\n",
       "      <td>0.477121</td>\n",
       "      <td>-0.602060</td>\n",
       "      <td>0.411620</td>\n",
       "      <td>-3.950782</td>\n",
       "      <td>0.000000</td>\n",
       "    </tr>\n",
       "    <tr>\n",
       "      <th>25%</th>\n",
       "      <td>1.311118</td>\n",
       "      <td>1.079181</td>\n",
       "      <td>0.621658</td>\n",
       "      <td>0.692379</td>\n",
       "      <td>-2.358689</td>\n",
       "      <td>0.000000</td>\n",
       "    </tr>\n",
       "    <tr>\n",
       "      <th>50%</th>\n",
       "      <td>1.333447</td>\n",
       "      <td>1.342423</td>\n",
       "      <td>0.768638</td>\n",
       "      <td>0.729165</td>\n",
       "      <td>-1.723538</td>\n",
       "      <td>1.000000</td>\n",
       "    </tr>\n",
       "    <tr>\n",
       "      <th>75%</th>\n",
       "      <td>1.367821</td>\n",
       "      <td>1.676670</td>\n",
       "      <td>0.835993</td>\n",
       "      <td>0.777789</td>\n",
       "      <td>-1.102373</td>\n",
       "      <td>2.000000</td>\n",
       "    </tr>\n",
       "    <tr>\n",
       "      <th>max</th>\n",
       "      <td>1.437275</td>\n",
       "      <td>2.527630</td>\n",
       "      <td>2.911690</td>\n",
       "      <td>2.735599</td>\n",
       "      <td>-0.082494</td>\n",
       "      <td>2.000000</td>\n",
       "    </tr>\n",
       "  </tbody>\n",
       "</table>\n",
       "</div>"
      ],
      "text/plain": [
       "       temperature  conductivity         doc          pH   discharge  \\\n",
       "count   115.000000    115.000000  115.000000  115.000000  115.000000   \n",
       "mean      1.337926      1.411121    0.629784    0.716517   -1.754893   \n",
       "std       0.039628      0.480958    0.441406    0.222101    0.805205   \n",
       "min       1.243534      0.477121   -0.602060    0.411620   -3.950782   \n",
       "25%       1.311118      1.079181    0.621658    0.692379   -2.358689   \n",
       "50%       1.333447      1.342423    0.768638    0.729165   -1.723538   \n",
       "75%       1.367821      1.676670    0.835993    0.777789   -1.102373   \n",
       "max       1.437275      2.527630    2.911690    2.735599   -0.082494   \n",
       "\n",
       "           target  \n",
       "count  115.000000  \n",
       "mean     0.921739  \n",
       "std      0.774006  \n",
       "min      0.000000  \n",
       "25%      0.000000  \n",
       "50%      1.000000  \n",
       "75%      2.000000  \n",
       "max      2.000000  "
      ]
     },
     "execution_count": 81,
     "metadata": {},
     "output_type": "execute_result"
    }
   ],
   "source": [
    "df.describe()"
   ]
  },
  {
   "cell_type": "markdown",
   "id": "14b6cb4b",
   "metadata": {},
   "source": [
    "## Land Use Frequency according to Dissolved Oxygen\n",
    "Let's compare our target column with the doc column to know about how your independent variables interact with your dependent variables.\n",
    "\n",
    "For the target column, 2 = Urban, 1 = Agricultural, 0 = Natural. "
   ]
  },
  {
   "cell_type": "code",
   "execution_count": 82,
   "id": "75b5df57",
   "metadata": {},
   "outputs": [
    {
     "data": {
      "text/plain": [
       "-0.602060    3\n",
       " 0.828660    2\n",
       " 0.668386    2\n",
       " 0.894870    2\n",
       " 0.844477    2\n",
       "            ..\n",
       " 0.206826    1\n",
       " 0.079181    1\n",
       " 0.318063    1\n",
       " 0.012837    1\n",
       " 0.937016    1\n",
       "Name: doc, Length: 104, dtype: int64"
      ]
     },
     "execution_count": 82,
     "metadata": {},
     "output_type": "execute_result"
    }
   ],
   "source": [
    "df.doc.value_counts()"
   ]
  },
  {
   "cell_type": "code",
   "execution_count": 83,
   "id": "8b47b4d0",
   "metadata": {},
   "outputs": [
    {
     "data": {
      "text/html": [
       "<div>\n",
       "<style scoped>\n",
       "    .dataframe tbody tr th:only-of-type {\n",
       "        vertical-align: middle;\n",
       "    }\n",
       "\n",
       "    .dataframe tbody tr th {\n",
       "        vertical-align: top;\n",
       "    }\n",
       "\n",
       "    .dataframe thead th {\n",
       "        text-align: right;\n",
       "    }\n",
       "</style>\n",
       "<table border=\"1\" class=\"dataframe\">\n",
       "  <thead>\n",
       "    <tr style=\"text-align: right;\">\n",
       "      <th>doc</th>\n",
       "      <th>-0.602060</th>\n",
       "      <th>-0.552842</th>\n",
       "      <th>-0.318759</th>\n",
       "      <th>-0.301030</th>\n",
       "      <th>-0.283997</th>\n",
       "      <th>-0.142668</th>\n",
       "      <th>-0.107905</th>\n",
       "      <th>-0.070581</th>\n",
       "      <th>-0.065502</th>\n",
       "      <th>-0.036212</th>\n",
       "      <th>...</th>\n",
       "      <th>0.890421</th>\n",
       "      <th>0.894870</th>\n",
       "      <th>0.915927</th>\n",
       "      <th>0.917506</th>\n",
       "      <th>0.919078</th>\n",
       "      <th>0.924279</th>\n",
       "      <th>0.936514</th>\n",
       "      <th>0.937016</th>\n",
       "      <th>1.494155</th>\n",
       "      <th>2.911690</th>\n",
       "    </tr>\n",
       "    <tr>\n",
       "      <th>target</th>\n",
       "      <th></th>\n",
       "      <th></th>\n",
       "      <th></th>\n",
       "      <th></th>\n",
       "      <th></th>\n",
       "      <th></th>\n",
       "      <th></th>\n",
       "      <th></th>\n",
       "      <th></th>\n",
       "      <th></th>\n",
       "      <th></th>\n",
       "      <th></th>\n",
       "      <th></th>\n",
       "      <th></th>\n",
       "      <th></th>\n",
       "      <th></th>\n",
       "      <th></th>\n",
       "      <th></th>\n",
       "      <th></th>\n",
       "      <th></th>\n",
       "      <th></th>\n",
       "    </tr>\n",
       "  </thead>\n",
       "  <tbody>\n",
       "    <tr>\n",
       "      <th>0</th>\n",
       "      <td>0</td>\n",
       "      <td>0</td>\n",
       "      <td>0</td>\n",
       "      <td>0</td>\n",
       "      <td>0</td>\n",
       "      <td>0</td>\n",
       "      <td>0</td>\n",
       "      <td>0</td>\n",
       "      <td>0</td>\n",
       "      <td>0</td>\n",
       "      <td>...</td>\n",
       "      <td>1</td>\n",
       "      <td>2</td>\n",
       "      <td>2</td>\n",
       "      <td>0</td>\n",
       "      <td>1</td>\n",
       "      <td>1</td>\n",
       "      <td>1</td>\n",
       "      <td>1</td>\n",
       "      <td>0</td>\n",
       "      <td>1</td>\n",
       "    </tr>\n",
       "    <tr>\n",
       "      <th>1</th>\n",
       "      <td>0</td>\n",
       "      <td>0</td>\n",
       "      <td>0</td>\n",
       "      <td>0</td>\n",
       "      <td>0</td>\n",
       "      <td>0</td>\n",
       "      <td>0</td>\n",
       "      <td>0</td>\n",
       "      <td>0</td>\n",
       "      <td>0</td>\n",
       "      <td>...</td>\n",
       "      <td>0</td>\n",
       "      <td>0</td>\n",
       "      <td>0</td>\n",
       "      <td>1</td>\n",
       "      <td>0</td>\n",
       "      <td>0</td>\n",
       "      <td>0</td>\n",
       "      <td>0</td>\n",
       "      <td>1</td>\n",
       "      <td>0</td>\n",
       "    </tr>\n",
       "    <tr>\n",
       "      <th>2</th>\n",
       "      <td>3</td>\n",
       "      <td>1</td>\n",
       "      <td>1</td>\n",
       "      <td>1</td>\n",
       "      <td>1</td>\n",
       "      <td>1</td>\n",
       "      <td>1</td>\n",
       "      <td>1</td>\n",
       "      <td>1</td>\n",
       "      <td>1</td>\n",
       "      <td>...</td>\n",
       "      <td>0</td>\n",
       "      <td>0</td>\n",
       "      <td>0</td>\n",
       "      <td>0</td>\n",
       "      <td>0</td>\n",
       "      <td>0</td>\n",
       "      <td>0</td>\n",
       "      <td>0</td>\n",
       "      <td>0</td>\n",
       "      <td>0</td>\n",
       "    </tr>\n",
       "  </tbody>\n",
       "</table>\n",
       "<p>3 rows × 104 columns</p>\n",
       "</div>"
      ],
      "text/plain": [
       "doc     -0.602060  -0.552842  -0.318759  -0.301030  -0.283997  -0.142668  \\\n",
       "target                                                                     \n",
       "0               0          0          0          0          0          0   \n",
       "1               0          0          0          0          0          0   \n",
       "2               3          1          1          1          1          1   \n",
       "\n",
       "doc     -0.107905  -0.070581  -0.065502  -0.036212  ...   0.890421   0.894870  \\\n",
       "target                                              ...                         \n",
       "0               0          0          0          0  ...          1          2   \n",
       "1               0          0          0          0  ...          0          0   \n",
       "2               1          1          1          1  ...          0          0   \n",
       "\n",
       "doc      0.915927   0.917506   0.919078   0.924279   0.936514   0.937016  \\\n",
       "target                                                                     \n",
       "0               2          0          1          1          1          1   \n",
       "1               0          1          0          0          0          0   \n",
       "2               0          0          0          0          0          0   \n",
       "\n",
       "doc      1.494155   2.911690  \n",
       "target                        \n",
       "0               0          1  \n",
       "1               1          0  \n",
       "2               0          0  \n",
       "\n",
       "[3 rows x 104 columns]"
      ]
     },
     "execution_count": 83,
     "metadata": {},
     "output_type": "execute_result"
    }
   ],
   "source": [
    "# Compare target column with doc column\n",
    "pd.crosstab(df.target, df.doc)"
   ]
  },
  {
   "cell_type": "markdown",
   "id": "52205284",
   "metadata": {},
   "source": [
    "## Making our crosstab visual"
   ]
  },
  {
   "cell_type": "code",
   "execution_count": 84,
   "id": "50f87e7b",
   "metadata": {},
   "outputs": [
    {
     "data": {
      "image/png": "[encoded data removed]",
      "text/plain": [
       "<Figure size 576x432 with 1 Axes>"
      ]
     },
     "metadata": {
      "needs_background": "light"
     },
     "output_type": "display_data"
    }
   ],
   "source": [
    "#box plot doc/target\n",
    "var = 'target'\n",
    "data = pd.concat([df['doc'], df[var]], axis=1)\n",
    "f, ax = plt.subplots(figsize=(8, 6))\n",
    "fig = sns.boxplot(x=var, y=\"doc\", data=data)\n",
    "fig.axis(ymin=-1, ymax=3);"
   ]
  },
  {
   "cell_type": "code",
   "execution_count": 85,
   "id": "ebf0fccf",
   "metadata": {},
   "outputs": [
    {
     "data": {
      "image/png": "[encoded data removed]",
      "text/plain": [
       "<Figure size 720x432 with 1 Axes>"
      ]
     },
     "metadata": {
      "needs_background": "light"
     },
     "output_type": "display_data"
    }
   ],
   "source": [
    "# Create a plot\n",
    "pd.crosstab(df.target, df.conductivity.mean()).plot(kind=\"bar\", figsize=(10,6), color=[\"salmon\", \"lightblue\", \"lightgreen\"])\n",
    "\n",
    "# Add some attributes to it\n",
    "plt.title(\"Conductivity for Land Use\")\n",
    "plt.xlabel(\"0 = Natural, 1 = Agricultural, 2 = Urban\")\n",
    "plt.ylabel(\"Conductivity\")\n",
    "plt.legend([])\n",
    "plt.xticks(rotation=0); # keep the labels on the x-axis vertical"
   ]
  },
  {
   "cell_type": "code",
   "execution_count": 86,
   "id": "ff5338b5",
   "metadata": {},
   "outputs": [
    {
     "data": {
      "text/html": [
       "<div>\n",
       "<style scoped>\n",
       "    .dataframe tbody tr th:only-of-type {\n",
       "        vertical-align: middle;\n",
       "    }\n",
       "\n",
       "    .dataframe tbody tr th {\n",
       "        vertical-align: top;\n",
       "    }\n",
       "\n",
       "    .dataframe thead th {\n",
       "        text-align: right;\n",
       "    }\n",
       "</style>\n",
       "<table border=\"1\" class=\"dataframe\">\n",
       "  <thead>\n",
       "    <tr style=\"text-align: right;\">\n",
       "      <th></th>\n",
       "      <th>stream</th>\n",
       "      <th>temperature</th>\n",
       "      <th>conductivity</th>\n",
       "      <th>doc</th>\n",
       "      <th>pH</th>\n",
       "      <th>discharge</th>\n",
       "      <th>target</th>\n",
       "    </tr>\n",
       "  </thead>\n",
       "  <tbody>\n",
       "  </tbody>\n",
       "</table>\n",
       "</div>"
      ],
      "text/plain": [
       "Empty DataFrame\n",
       "Columns: [stream, temperature, conductivity, doc, pH, discharge, target]\n",
       "Index: []"
      ]
     },
     "execution_count": 86,
     "metadata": {},
     "output_type": "execute_result"
    }
   ],
   "source": [
    "df.head(0)"
   ]
  },
  {
   "cell_type": "code",
   "execution_count": 87,
   "id": "0a843cd5",
   "metadata": {},
   "outputs": [
    {
     "data": {
      "image/png": "[encoded data removed]",
      "text/plain": [
       "<Figure size 720x432 with 1 Axes>"
      ]
     },
     "metadata": {
      "needs_background": "light"
     },
     "output_type": "display_data"
    }
   ],
   "source": [
    "# Create another figure\n",
    "plt.figure(figsize=(10,6))\n",
    "\n",
    "# Start with positve examples\n",
    "plt.scatter(df.temperature[df.target==1], \n",
    "            df.discharge[df.target==1], \n",
    "            c=\"salmon\") # define it as a scatter figure\n",
    "\n",
    "# Now for negative examples, we want them on the same plot, so we call plt again\n",
    "plt.scatter(df.temperature[df.target==0], \n",
    "            df.discharge[df.target==0], \n",
    "            c=\"lightblue\") # axis always come as (x, y)\n",
    "# Now for negative examples, we want them on the same plot, so we call plt again\n",
    "plt.scatter(df.temperature[df.target==2], \n",
    "            df.discharge[df.target==2], \n",
    "            c=\"lightgreen\") # axis always come as (x, y)\n",
    "# Add some helpful info\n",
    "plt.title(\"Land Use in function of Conductivity and Discharge\")\n",
    "plt.xlabel(\"Temperature\")\n",
    "plt.legend([\"Nat\", \"Agr\", \"Urb\"])\n",
    "plt.ylabel(\"Discharge\");"
   ]
  },
  {
   "cell_type": "code",
   "execution_count": 88,
   "id": "6b05ad5c",
   "metadata": {},
   "outputs": [
    {
     "data": {
      "image/png": "[encoded data removed]",
      "text/plain": [
       "<Figure size 432x288 with 1 Axes>"
      ]
     },
     "metadata": {
      "needs_background": "light"
     },
     "output_type": "display_data"
    }
   ],
   "source": [
    "# Histogram for conductivity\n",
    "df.conductivity.plot.hist();"
   ]
  },
  {
   "cell_type": "code",
   "execution_count": 89,
   "id": "00f8098a",
   "metadata": {},
   "outputs": [
    {
     "data": {
      "image/png": "[encoded data removed]",
      "text/plain": [
       "<Figure size 432x288 with 1 Axes>"
      ]
     },
     "metadata": {
      "needs_background": "light"
     },
     "output_type": "display_data"
    }
   ],
   "source": [
    "# Histogram for dissolved oxygen\n",
    "df.doc.plot.hist();"
   ]
  },
  {
   "cell_type": "code",
   "execution_count": 90,
   "id": "3f495e61",
   "metadata": {},
   "outputs": [
    {
     "data": {
      "image/png": "[encoded data removed]",
      "text/plain": [
       "<Figure size 432x288 with 1 Axes>"
      ]
     },
     "metadata": {
      "needs_background": "light"
     },
     "output_type": "display_data"
    }
   ],
   "source": [
    "# Histogram for pH\n",
    "df.pH.plot.hist();"
   ]
  },
  {
   "cell_type": "code",
   "execution_count": 91,
   "id": "b4001144",
   "metadata": {},
   "outputs": [
    {
     "data": {
      "image/png": "[encoded data removed]",
      "text/plain": [
       "<Figure size 432x288 with 1 Axes>"
      ]
     },
     "metadata": {
      "needs_background": "light"
     },
     "output_type": "display_data"
    }
   ],
   "source": [
    "# Histogram for temperature\n",
    "df.temperature.plot.hist();"
   ]
  },
  {
   "cell_type": "markdown",
   "id": "25e6c048",
   "metadata": {},
   "source": [
    "## Correlation Matrix"
   ]
  },
  {
   "cell_type": "code",
   "execution_count": 92,
   "id": "b15eb159",
   "metadata": {},
   "outputs": [
    {
     "data": {
      "text/html": [
       "<div>\n",
       "<style scoped>\n",
       "    .dataframe tbody tr th:only-of-type {\n",
       "        vertical-align: middle;\n",
       "    }\n",
       "\n",
       "    .dataframe tbody tr th {\n",
       "        vertical-align: top;\n",
       "    }\n",
       "\n",
       "    .dataframe thead th {\n",
       "        text-align: right;\n",
       "    }\n",
       "</style>\n",
       "<table border=\"1\" class=\"dataframe\">\n",
       "  <thead>\n",
       "    <tr style=\"text-align: right;\">\n",
       "      <th></th>\n",
       "      <th>temperature</th>\n",
       "      <th>conductivity</th>\n",
       "      <th>doc</th>\n",
       "      <th>pH</th>\n",
       "      <th>discharge</th>\n",
       "      <th>target</th>\n",
       "    </tr>\n",
       "  </thead>\n",
       "  <tbody>\n",
       "    <tr>\n",
       "      <th>temperature</th>\n",
       "      <td>1.000000</td>\n",
       "      <td>0.082564</td>\n",
       "      <td>-0.294945</td>\n",
       "      <td>-0.021757</td>\n",
       "      <td>0.364473</td>\n",
       "      <td>0.403139</td>\n",
       "    </tr>\n",
       "    <tr>\n",
       "      <th>conductivity</th>\n",
       "      <td>0.082564</td>\n",
       "      <td>1.000000</td>\n",
       "      <td>-0.593390</td>\n",
       "      <td>0.391298</td>\n",
       "      <td>0.118184</td>\n",
       "      <td>0.756334</td>\n",
       "    </tr>\n",
       "    <tr>\n",
       "      <th>doc</th>\n",
       "      <td>-0.294945</td>\n",
       "      <td>-0.593390</td>\n",
       "      <td>1.000000</td>\n",
       "      <td>-0.089168</td>\n",
       "      <td>-0.316107</td>\n",
       "      <td>-0.606704</td>\n",
       "    </tr>\n",
       "    <tr>\n",
       "      <th>pH</th>\n",
       "      <td>-0.021757</td>\n",
       "      <td>0.391298</td>\n",
       "      <td>-0.089168</td>\n",
       "      <td>1.000000</td>\n",
       "      <td>0.034240</td>\n",
       "      <td>0.238335</td>\n",
       "    </tr>\n",
       "    <tr>\n",
       "      <th>discharge</th>\n",
       "      <td>0.364473</td>\n",
       "      <td>0.118184</td>\n",
       "      <td>-0.316107</td>\n",
       "      <td>0.034240</td>\n",
       "      <td>1.000000</td>\n",
       "      <td>0.450046</td>\n",
       "    </tr>\n",
       "    <tr>\n",
       "      <th>target</th>\n",
       "      <td>0.403139</td>\n",
       "      <td>0.756334</td>\n",
       "      <td>-0.606704</td>\n",
       "      <td>0.238335</td>\n",
       "      <td>0.450046</td>\n",
       "      <td>1.000000</td>\n",
       "    </tr>\n",
       "  </tbody>\n",
       "</table>\n",
       "</div>"
      ],
      "text/plain": [
       "              temperature  conductivity       doc        pH  discharge  \\\n",
       "temperature      1.000000      0.082564 -0.294945 -0.021757   0.364473   \n",
       "conductivity     0.082564      1.000000 -0.593390  0.391298   0.118184   \n",
       "doc             -0.294945     -0.593390  1.000000 -0.089168  -0.316107   \n",
       "pH              -0.021757      0.391298 -0.089168  1.000000   0.034240   \n",
       "discharge        0.364473      0.118184 -0.316107  0.034240   1.000000   \n",
       "target           0.403139      0.756334 -0.606704  0.238335   0.450046   \n",
       "\n",
       "                target  \n",
       "temperature   0.403139  \n",
       "conductivity  0.756334  \n",
       "doc          -0.606704  \n",
       "pH            0.238335  \n",
       "discharge     0.450046  \n",
       "target        1.000000  "
      ]
     },
     "execution_count": 92,
     "metadata": {},
     "output_type": "execute_result"
    }
   ],
   "source": [
    "# Find the correlation between our independent variables\n",
    "corr_matrix = df.corr()\n",
    "corr_matrix "
   ]
  },
  {
   "cell_type": "code",
   "execution_count": 93,
   "id": "a613ec11",
   "metadata": {},
   "outputs": [
    {
     "data": {
      "image/png": "[encoded data removed]",
      "text/plain": [
       "<Figure size 1080x720 with 2 Axes>"
      ]
     },
     "metadata": {
      "needs_background": "light"
     },
     "output_type": "display_data"
    }
   ],
   "source": [
    "corr_matrix = df.corr()\n",
    "plt.figure(figsize=(15, 10))\n",
    "sns.heatmap(corr_matrix, \n",
    "            annot=True, \n",
    "            linewidths=0.5, \n",
    "            fmt= \".2f\", \n",
    "            cmap=\"YlGnBu\");"
   ]
  },
  {
   "cell_type": "code",
   "execution_count": 94,
   "id": "be98c048",
   "metadata": {},
   "outputs": [
    {
     "data": {
      "text/html": [
       "<div>\n",
       "<style scoped>\n",
       "    .dataframe tbody tr th:only-of-type {\n",
       "        vertical-align: middle;\n",
       "    }\n",
       "\n",
       "    .dataframe tbody tr th {\n",
       "        vertical-align: top;\n",
       "    }\n",
       "\n",
       "    .dataframe thead th {\n",
       "        text-align: right;\n",
       "    }\n",
       "</style>\n",
       "<table border=\"1\" class=\"dataframe\">\n",
       "  <thead>\n",
       "    <tr style=\"text-align: right;\">\n",
       "      <th></th>\n",
       "      <th>0</th>\n",
       "      <th>1</th>\n",
       "      <th>2</th>\n",
       "      <th>3</th>\n",
       "      <th>4</th>\n",
       "    </tr>\n",
       "  </thead>\n",
       "  <tbody>\n",
       "    <tr>\n",
       "      <th>stream</th>\n",
       "      <td>Oficina</td>\n",
       "      <td>Oficina</td>\n",
       "      <td>Oficina</td>\n",
       "      <td>Oficina</td>\n",
       "      <td>Oficina</td>\n",
       "    </tr>\n",
       "    <tr>\n",
       "      <th>temperature</th>\n",
       "      <td>1.273001</td>\n",
       "      <td>1.311118</td>\n",
       "      <td>1.327972</td>\n",
       "      <td>1.302331</td>\n",
       "      <td>1.342423</td>\n",
       "    </tr>\n",
       "    <tr>\n",
       "      <th>conductivity</th>\n",
       "      <td>1.732394</td>\n",
       "      <td>1.633468</td>\n",
       "      <td>1.681241</td>\n",
       "      <td>1.612784</td>\n",
       "      <td>1.612784</td>\n",
       "    </tr>\n",
       "    <tr>\n",
       "      <th>doc</th>\n",
       "      <td>0.82866</td>\n",
       "      <td>0.804139</td>\n",
       "      <td>0.705864</td>\n",
       "      <td>0.777427</td>\n",
       "      <td>0.662758</td>\n",
       "    </tr>\n",
       "    <tr>\n",
       "      <th>pH</th>\n",
       "      <td>0.757396</td>\n",
       "      <td>0.733999</td>\n",
       "      <td>0.773786</td>\n",
       "      <td>0.762679</td>\n",
       "      <td>0.781755</td>\n",
       "    </tr>\n",
       "    <tr>\n",
       "      <th>discharge</th>\n",
       "      <td>-1.987163</td>\n",
       "      <td>-1.723538</td>\n",
       "      <td>-2.075721</td>\n",
       "      <td>-1.661544</td>\n",
       "      <td>-1.732822</td>\n",
       "    </tr>\n",
       "    <tr>\n",
       "      <th>target</th>\n",
       "      <td>1</td>\n",
       "      <td>1</td>\n",
       "      <td>1</td>\n",
       "      <td>1</td>\n",
       "      <td>1</td>\n",
       "    </tr>\n",
       "  </tbody>\n",
       "</table>\n",
       "</div>"
      ],
      "text/plain": [
       "                     0         1         2         3         4\n",
       "stream         Oficina   Oficina   Oficina   Oficina   Oficina\n",
       "temperature   1.273001  1.311118  1.327972  1.302331  1.342423\n",
       "conductivity  1.732394  1.633468  1.681241  1.612784  1.612784\n",
       "doc            0.82866  0.804139  0.705864  0.777427  0.662758\n",
       "pH            0.757396  0.733999  0.773786  0.762679  0.781755\n",
       "discharge    -1.987163 -1.723538 -2.075721 -1.661544 -1.732822\n",
       "target               1         1         1         1         1"
      ]
     },
     "execution_count": 94,
     "metadata": {},
     "output_type": "execute_result"
    }
   ],
   "source": [
    "df.head().T"
   ]
  },
  {
   "cell_type": "code",
   "execution_count": 95,
   "id": "fe1baa1b",
   "metadata": {},
   "outputs": [
    {
     "data": {
      "text/plain": [
       "True"
      ]
     },
     "execution_count": 95,
     "metadata": {},
     "output_type": "execute_result"
    }
   ],
   "source": [
    "pd.api.types.is_string_dtype(df[\"stream\"])"
   ]
  },
  {
   "cell_type": "code",
   "execution_count": 96,
   "id": "177b6d07",
   "metadata": {},
   "outputs": [
    {
     "name": "stdout",
     "output_type": "stream",
     "text": [
      "stream\n"
     ]
    }
   ],
   "source": [
    "# Find the columns which contain strings\n",
    "for label, content in df.items():\n",
    "    if pd.api.types.is_string_dtype(content):\n",
    "        print(label)"
   ]
  },
  {
   "cell_type": "code",
   "execution_count": 97,
   "id": "8e30dd1c",
   "metadata": {},
   "outputs": [],
   "source": [
    "# This will turn all of the string value into category values\n",
    "for label, content in df.items():\n",
    "    if pd.api.types.is_string_dtype(content):\n",
    "        df[label] = content.astype(\"category\").cat.as_ordered()"
   ]
  },
  {
   "cell_type": "code",
   "execution_count": 98,
   "id": "b5924f0d",
   "metadata": {},
   "outputs": [
    {
     "name": "stdout",
     "output_type": "stream",
     "text": [
      "<class 'pandas.core.frame.DataFrame'>\n",
      "RangeIndex: 115 entries, 0 to 114\n",
      "Data columns (total 7 columns):\n",
      " #   Column        Non-Null Count  Dtype   \n",
      "---  ------        --------------  -----   \n",
      " 0   stream        115 non-null    category\n",
      " 1   temperature   115 non-null    float64 \n",
      " 2   conductivity  115 non-null    float64 \n",
      " 3   doc           115 non-null    float64 \n",
      " 4   pH            115 non-null    float64 \n",
      " 5   discharge     115 non-null    float64 \n",
      " 6   target        115 non-null    int64   \n",
      "dtypes: category(1), float64(5), int64(1)\n",
      "memory usage: 6.3 KB\n"
     ]
    }
   ],
   "source": [
    "df.info()"
   ]
  },
  {
   "cell_type": "code",
   "execution_count": 99,
   "id": "7ee15f5e",
   "metadata": {},
   "outputs": [
    {
     "data": {
      "text/plain": [
       "Index(['Agua Limpa', 'Bichinho', 'CaptaBichinho', 'Carandai', 'Chafariz',\n",
       "       'Lenheiros', 'Mangue', 'Mexerica', 'Mexerica_cab', 'Oficina', 'Prados',\n",
       "       'Rit', 'SCAetano', 'Sumidouro', 'Tiradentes'],\n",
       "      dtype='object')"
      ]
     },
     "execution_count": 99,
     "metadata": {},
     "output_type": "execute_result"
    }
   ],
   "source": [
    "df.stream.cat.categories"
   ]
  },
  {
   "cell_type": "code",
   "execution_count": 100,
   "id": "4461d89a",
   "metadata": {},
   "outputs": [
    {
     "data": {
      "text/plain": [
       "0      9\n",
       "1      9\n",
       "2      9\n",
       "3      9\n",
       "4      9\n",
       "      ..\n",
       "110    8\n",
       "111    8\n",
       "112    8\n",
       "113    8\n",
       "114    8\n",
       "Length: 115, dtype: int8"
      ]
     },
     "execution_count": 100,
     "metadata": {},
     "output_type": "execute_result"
    }
   ],
   "source": [
    "df.stream.cat.codes"
   ]
  },
  {
   "cell_type": "code",
   "execution_count": 101,
   "id": "4d5a58fa",
   "metadata": {},
   "outputs": [
    {
     "data": {
      "text/plain": [
       "stream          0.0\n",
       "temperature     0.0\n",
       "conductivity    0.0\n",
       "doc             0.0\n",
       "pH              0.0\n",
       "discharge       0.0\n",
       "target          0.0\n",
       "dtype: float64"
      ]
     },
     "execution_count": 101,
     "metadata": {},
     "output_type": "execute_result"
    }
   ],
   "source": [
    "df.isnull().sum()/len(df)"
   ]
  },
  {
   "cell_type": "code",
   "execution_count": 102,
   "id": "e660480e",
   "metadata": {},
   "outputs": [
    {
     "name": "stdout",
     "output_type": "stream",
     "text": [
      "stream\n"
     ]
    }
   ],
   "source": [
    "# Check for columns which aren't numeric\n",
    "for label, content in df.items():\n",
    "    if not pd.api.types.is_numeric_dtype(content):\n",
    "        print(label)"
   ]
  },
  {
   "cell_type": "code",
   "execution_count": 103,
   "id": "318a0174",
   "metadata": {},
   "outputs": [],
   "source": [
    "# Turn categorical variables into numbers \n",
    "for label, content in df.items():\n",
    "    if not pd.api.types.is_numeric_dtype(content):\n",
    "        # Add binary column to indicate whether sample had missing value\n",
    "        df[label+\"_is_missing\"] = pd.isnull(content)\n",
    "        # Turn categories into numbers and add +1\n",
    "        df[label] = pd.Categorical(content).codes+1"
   ]
  },
  {
   "cell_type": "code",
   "execution_count": 104,
   "id": "4fb058a4",
   "metadata": {},
   "outputs": [
    {
     "data": {
      "text/plain": [
       "array([10, 10, 10, 10, 10, 10, 13, 13, 13, 13,  4,  4,  4,  4,  4,  4,  1,\n",
       "        1,  1,  1,  1,  1, 11, 11, 11, 11, 11, 11, 12, 12, 12, 12, 12, 12,\n",
       "        6,  6,  6,  6,  6,  6, 15, 15, 15, 15, 15, 15,  2,  2,  2,  2,  2,\n",
       "        2,  7,  7,  7,  7,  7,  3,  3,  3,  3,  3,  3,  5,  5,  5,  5, 14,\n",
       "       14, 14, 14, 14, 14,  8,  8,  8,  8,  8,  8,  8,  8,  8,  8,  8,  8,\n",
       "        8,  8,  8,  8,  8,  8,  8,  8,  8,  8,  8,  8,  9,  9,  9,  9,  9,\n",
       "        9,  9,  9,  9,  9,  9,  9,  9,  9,  9,  9,  9,  9], dtype=int8)"
      ]
     },
     "execution_count": 104,
     "metadata": {},
     "output_type": "execute_result"
    }
   ],
   "source": [
    "pd.Categorical(df[\"stream\"]).codes+1"
   ]
  },
  {
   "cell_type": "code",
   "execution_count": 105,
   "id": "77a71217",
   "metadata": {},
   "outputs": [
    {
     "name": "stdout",
     "output_type": "stream",
     "text": [
      "<class 'pandas.core.frame.DataFrame'>\n",
      "RangeIndex: 115 entries, 0 to 114\n",
      "Data columns (total 8 columns):\n",
      " #   Column             Non-Null Count  Dtype  \n",
      "---  ------             --------------  -----  \n",
      " 0   stream             115 non-null    int8   \n",
      " 1   temperature        115 non-null    float64\n",
      " 2   conductivity       115 non-null    float64\n",
      " 3   doc                115 non-null    float64\n",
      " 4   pH                 115 non-null    float64\n",
      " 5   discharge          115 non-null    float64\n",
      " 6   target             115 non-null    int64  \n",
      " 7   stream_is_missing  115 non-null    bool   \n",
      "dtypes: bool(1), float64(5), int64(1), int8(1)\n",
      "memory usage: 5.7 KB\n"
     ]
    }
   ],
   "source": [
    "df.info()"
   ]
  },
  {
   "cell_type": "code",
   "execution_count": 106,
   "id": "8a9b2fd0",
   "metadata": {},
   "outputs": [
    {
     "data": {
      "text/html": [
       "<div>\n",
       "<style scoped>\n",
       "    .dataframe tbody tr th:only-of-type {\n",
       "        vertical-align: middle;\n",
       "    }\n",
       "\n",
       "    .dataframe tbody tr th {\n",
       "        vertical-align: top;\n",
       "    }\n",
       "\n",
       "    .dataframe thead th {\n",
       "        text-align: right;\n",
       "    }\n",
       "</style>\n",
       "<table border=\"1\" class=\"dataframe\">\n",
       "  <thead>\n",
       "    <tr style=\"text-align: right;\">\n",
       "      <th></th>\n",
       "      <th>0</th>\n",
       "      <th>1</th>\n",
       "      <th>2</th>\n",
       "      <th>3</th>\n",
       "      <th>4</th>\n",
       "    </tr>\n",
       "  </thead>\n",
       "  <tbody>\n",
       "    <tr>\n",
       "      <th>stream</th>\n",
       "      <td>10</td>\n",
       "      <td>10</td>\n",
       "      <td>10</td>\n",
       "      <td>10</td>\n",
       "      <td>10</td>\n",
       "    </tr>\n",
       "    <tr>\n",
       "      <th>temperature</th>\n",
       "      <td>1.273001</td>\n",
       "      <td>1.311118</td>\n",
       "      <td>1.327972</td>\n",
       "      <td>1.302331</td>\n",
       "      <td>1.342423</td>\n",
       "    </tr>\n",
       "    <tr>\n",
       "      <th>conductivity</th>\n",
       "      <td>1.732394</td>\n",
       "      <td>1.633468</td>\n",
       "      <td>1.681241</td>\n",
       "      <td>1.612784</td>\n",
       "      <td>1.612784</td>\n",
       "    </tr>\n",
       "    <tr>\n",
       "      <th>doc</th>\n",
       "      <td>0.82866</td>\n",
       "      <td>0.804139</td>\n",
       "      <td>0.705864</td>\n",
       "      <td>0.777427</td>\n",
       "      <td>0.662758</td>\n",
       "    </tr>\n",
       "    <tr>\n",
       "      <th>pH</th>\n",
       "      <td>0.757396</td>\n",
       "      <td>0.733999</td>\n",
       "      <td>0.773786</td>\n",
       "      <td>0.762679</td>\n",
       "      <td>0.781755</td>\n",
       "    </tr>\n",
       "    <tr>\n",
       "      <th>discharge</th>\n",
       "      <td>-1.987163</td>\n",
       "      <td>-1.723538</td>\n",
       "      <td>-2.075721</td>\n",
       "      <td>-1.661544</td>\n",
       "      <td>-1.732822</td>\n",
       "    </tr>\n",
       "    <tr>\n",
       "      <th>target</th>\n",
       "      <td>1</td>\n",
       "      <td>1</td>\n",
       "      <td>1</td>\n",
       "      <td>1</td>\n",
       "      <td>1</td>\n",
       "    </tr>\n",
       "    <tr>\n",
       "      <th>stream_is_missing</th>\n",
       "      <td>False</td>\n",
       "      <td>False</td>\n",
       "      <td>False</td>\n",
       "      <td>False</td>\n",
       "      <td>False</td>\n",
       "    </tr>\n",
       "  </tbody>\n",
       "</table>\n",
       "</div>"
      ],
      "text/plain": [
       "                          0         1         2         3         4\n",
       "stream                   10        10        10        10        10\n",
       "temperature        1.273001  1.311118  1.327972  1.302331  1.342423\n",
       "conductivity       1.732394  1.633468  1.681241  1.612784  1.612784\n",
       "doc                 0.82866  0.804139  0.705864  0.777427  0.662758\n",
       "pH                 0.757396  0.733999  0.773786  0.762679  0.781755\n",
       "discharge         -1.987163 -1.723538 -2.075721 -1.661544 -1.732822\n",
       "target                    1         1         1         1         1\n",
       "stream_is_missing     False     False     False     False     False"
      ]
     },
     "execution_count": 106,
     "metadata": {},
     "output_type": "execute_result"
    }
   ],
   "source": [
    "df.head().T"
   ]
  },
  {
   "cell_type": "code",
   "execution_count": 107,
   "id": "7cbecc29",
   "metadata": {},
   "outputs": [
    {
     "data": {
      "text/plain": [
       "stream               0\n",
       "temperature          0\n",
       "conductivity         0\n",
       "doc                  0\n",
       "pH                   0\n",
       "discharge            0\n",
       "target               0\n",
       "stream_is_missing    0\n",
       "dtype: int64"
      ]
     },
     "execution_count": 107,
     "metadata": {},
     "output_type": "execute_result"
    }
   ],
   "source": [
    "df.isna().sum()"
   ]
  },
  {
   "cell_type": "code",
   "execution_count": 108,
   "id": "e64284fe",
   "metadata": {},
   "outputs": [
    {
     "data": {
      "text/html": [
       "<div>\n",
       "<style scoped>\n",
       "    .dataframe tbody tr th:only-of-type {\n",
       "        vertical-align: middle;\n",
       "    }\n",
       "\n",
       "    .dataframe tbody tr th {\n",
       "        vertical-align: top;\n",
       "    }\n",
       "\n",
       "    .dataframe thead th {\n",
       "        text-align: right;\n",
       "    }\n",
       "</style>\n",
       "<table border=\"1\" class=\"dataframe\">\n",
       "  <thead>\n",
       "    <tr style=\"text-align: right;\">\n",
       "      <th></th>\n",
       "      <th>stream</th>\n",
       "      <th>temperature</th>\n",
       "      <th>conductivity</th>\n",
       "      <th>doc</th>\n",
       "      <th>pH</th>\n",
       "      <th>discharge</th>\n",
       "      <th>target</th>\n",
       "      <th>stream_is_missing</th>\n",
       "    </tr>\n",
       "  </thead>\n",
       "  <tbody>\n",
       "    <tr>\n",
       "      <th>0</th>\n",
       "      <td>10</td>\n",
       "      <td>1.273001</td>\n",
       "      <td>1.732394</td>\n",
       "      <td>0.828660</td>\n",
       "      <td>0.757396</td>\n",
       "      <td>-1.987163</td>\n",
       "      <td>1</td>\n",
       "      <td>False</td>\n",
       "    </tr>\n",
       "    <tr>\n",
       "      <th>1</th>\n",
       "      <td>10</td>\n",
       "      <td>1.311118</td>\n",
       "      <td>1.633468</td>\n",
       "      <td>0.804139</td>\n",
       "      <td>0.733999</td>\n",
       "      <td>-1.723538</td>\n",
       "      <td>1</td>\n",
       "      <td>False</td>\n",
       "    </tr>\n",
       "    <tr>\n",
       "      <th>2</th>\n",
       "      <td>10</td>\n",
       "      <td>1.327972</td>\n",
       "      <td>1.681241</td>\n",
       "      <td>0.705864</td>\n",
       "      <td>0.773786</td>\n",
       "      <td>-2.075721</td>\n",
       "      <td>1</td>\n",
       "      <td>False</td>\n",
       "    </tr>\n",
       "    <tr>\n",
       "      <th>3</th>\n",
       "      <td>10</td>\n",
       "      <td>1.302331</td>\n",
       "      <td>1.612784</td>\n",
       "      <td>0.777427</td>\n",
       "      <td>0.762679</td>\n",
       "      <td>-1.661544</td>\n",
       "      <td>1</td>\n",
       "      <td>False</td>\n",
       "    </tr>\n",
       "    <tr>\n",
       "      <th>4</th>\n",
       "      <td>10</td>\n",
       "      <td>1.342423</td>\n",
       "      <td>1.612784</td>\n",
       "      <td>0.662758</td>\n",
       "      <td>0.781755</td>\n",
       "      <td>-1.732822</td>\n",
       "      <td>1</td>\n",
       "      <td>False</td>\n",
       "    </tr>\n",
       "  </tbody>\n",
       "</table>\n",
       "</div>"
      ],
      "text/plain": [
       "   stream  temperature  conductivity       doc        pH  discharge  target  \\\n",
       "0      10     1.273001      1.732394  0.828660  0.757396  -1.987163       1   \n",
       "1      10     1.311118      1.633468  0.804139  0.733999  -1.723538       1   \n",
       "2      10     1.327972      1.681241  0.705864  0.773786  -2.075721       1   \n",
       "3      10     1.302331      1.612784  0.777427  0.762679  -1.661544       1   \n",
       "4      10     1.342423      1.612784  0.662758  0.781755  -1.732822       1   \n",
       "\n",
       "   stream_is_missing  \n",
       "0              False  \n",
       "1              False  \n",
       "2              False  \n",
       "3              False  \n",
       "4              False  "
      ]
     },
     "execution_count": 108,
     "metadata": {},
     "output_type": "execute_result"
    }
   ],
   "source": [
    "df.head()"
   ]
  },
  {
   "cell_type": "markdown",
   "id": "d475666c",
   "metadata": {},
   "source": [
    "## Modeling"
   ]
  },
  {
   "cell_type": "code",
   "execution_count": 109,
   "id": "430c5439",
   "metadata": {},
   "outputs": [
    {
     "data": {
      "text/html": [
       "<div>\n",
       "<style scoped>\n",
       "    .dataframe tbody tr th:only-of-type {\n",
       "        vertical-align: middle;\n",
       "    }\n",
       "\n",
       "    .dataframe tbody tr th {\n",
       "        vertical-align: top;\n",
       "    }\n",
       "\n",
       "    .dataframe thead th {\n",
       "        text-align: right;\n",
       "    }\n",
       "</style>\n",
       "<table border=\"1\" class=\"dataframe\">\n",
       "  <thead>\n",
       "    <tr style=\"text-align: right;\">\n",
       "      <th></th>\n",
       "      <th>stream</th>\n",
       "      <th>temperature</th>\n",
       "      <th>conductivity</th>\n",
       "      <th>doc</th>\n",
       "      <th>pH</th>\n",
       "      <th>discharge</th>\n",
       "      <th>target</th>\n",
       "      <th>stream_is_missing</th>\n",
       "    </tr>\n",
       "  </thead>\n",
       "  <tbody>\n",
       "    <tr>\n",
       "      <th>0</th>\n",
       "      <td>10</td>\n",
       "      <td>1.273001</td>\n",
       "      <td>1.732394</td>\n",
       "      <td>0.828660</td>\n",
       "      <td>0.757396</td>\n",
       "      <td>-1.987163</td>\n",
       "      <td>1</td>\n",
       "      <td>False</td>\n",
       "    </tr>\n",
       "    <tr>\n",
       "      <th>1</th>\n",
       "      <td>10</td>\n",
       "      <td>1.311118</td>\n",
       "      <td>1.633468</td>\n",
       "      <td>0.804139</td>\n",
       "      <td>0.733999</td>\n",
       "      <td>-1.723538</td>\n",
       "      <td>1</td>\n",
       "      <td>False</td>\n",
       "    </tr>\n",
       "    <tr>\n",
       "      <th>2</th>\n",
       "      <td>10</td>\n",
       "      <td>1.327972</td>\n",
       "      <td>1.681241</td>\n",
       "      <td>0.705864</td>\n",
       "      <td>0.773786</td>\n",
       "      <td>-2.075721</td>\n",
       "      <td>1</td>\n",
       "      <td>False</td>\n",
       "    </tr>\n",
       "    <tr>\n",
       "      <th>3</th>\n",
       "      <td>10</td>\n",
       "      <td>1.302331</td>\n",
       "      <td>1.612784</td>\n",
       "      <td>0.777427</td>\n",
       "      <td>0.762679</td>\n",
       "      <td>-1.661544</td>\n",
       "      <td>1</td>\n",
       "      <td>False</td>\n",
       "    </tr>\n",
       "    <tr>\n",
       "      <th>4</th>\n",
       "      <td>10</td>\n",
       "      <td>1.342423</td>\n",
       "      <td>1.612784</td>\n",
       "      <td>0.662758</td>\n",
       "      <td>0.781755</td>\n",
       "      <td>-1.732822</td>\n",
       "      <td>1</td>\n",
       "      <td>False</td>\n",
       "    </tr>\n",
       "  </tbody>\n",
       "</table>\n",
       "</div>"
      ],
      "text/plain": [
       "   stream  temperature  conductivity       doc        pH  discharge  target  \\\n",
       "0      10     1.273001      1.732394  0.828660  0.757396  -1.987163       1   \n",
       "1      10     1.311118      1.633468  0.804139  0.733999  -1.723538       1   \n",
       "2      10     1.327972      1.681241  0.705864  0.773786  -2.075721       1   \n",
       "3      10     1.302331      1.612784  0.777427  0.762679  -1.661544       1   \n",
       "4      10     1.342423      1.612784  0.662758  0.781755  -1.732822       1   \n",
       "\n",
       "   stream_is_missing  \n",
       "0              False  \n",
       "1              False  \n",
       "2              False  \n",
       "3              False  \n",
       "4              False  "
      ]
     },
     "execution_count": 109,
     "metadata": {},
     "output_type": "execute_result"
    }
   ],
   "source": [
    "df.head()"
   ]
  },
  {
   "cell_type": "code",
   "execution_count": 110,
   "id": "755bd0c6",
   "metadata": {},
   "outputs": [],
   "source": [
    "# Everything except target variable\n",
    "X = df.drop(\"target\", axis=1)\n",
    "\n",
    "# Target variable\n",
    "y = df.target.values"
   ]
  },
  {
   "cell_type": "code",
   "execution_count": 111,
   "id": "50f791e9",
   "metadata": {},
   "outputs": [
    {
     "data": {
      "text/html": [
       "<div>\n",
       "<style scoped>\n",
       "    .dataframe tbody tr th:only-of-type {\n",
       "        vertical-align: middle;\n",
       "    }\n",
       "\n",
       "    .dataframe tbody tr th {\n",
       "        vertical-align: top;\n",
       "    }\n",
       "\n",
       "    .dataframe thead th {\n",
       "        text-align: right;\n",
       "    }\n",
       "</style>\n",
       "<table border=\"1\" class=\"dataframe\">\n",
       "  <thead>\n",
       "    <tr style=\"text-align: right;\">\n",
       "      <th></th>\n",
       "      <th>stream</th>\n",
       "      <th>temperature</th>\n",
       "      <th>conductivity</th>\n",
       "      <th>doc</th>\n",
       "      <th>pH</th>\n",
       "      <th>discharge</th>\n",
       "      <th>stream_is_missing</th>\n",
       "    </tr>\n",
       "  </thead>\n",
       "  <tbody>\n",
       "    <tr>\n",
       "      <th>0</th>\n",
       "      <td>10</td>\n",
       "      <td>1.273001</td>\n",
       "      <td>1.732394</td>\n",
       "      <td>0.828660</td>\n",
       "      <td>0.757396</td>\n",
       "      <td>-1.987163</td>\n",
       "      <td>False</td>\n",
       "    </tr>\n",
       "    <tr>\n",
       "      <th>1</th>\n",
       "      <td>10</td>\n",
       "      <td>1.311118</td>\n",
       "      <td>1.633468</td>\n",
       "      <td>0.804139</td>\n",
       "      <td>0.733999</td>\n",
       "      <td>-1.723538</td>\n",
       "      <td>False</td>\n",
       "    </tr>\n",
       "    <tr>\n",
       "      <th>2</th>\n",
       "      <td>10</td>\n",
       "      <td>1.327972</td>\n",
       "      <td>1.681241</td>\n",
       "      <td>0.705864</td>\n",
       "      <td>0.773786</td>\n",
       "      <td>-2.075721</td>\n",
       "      <td>False</td>\n",
       "    </tr>\n",
       "    <tr>\n",
       "      <th>3</th>\n",
       "      <td>10</td>\n",
       "      <td>1.302331</td>\n",
       "      <td>1.612784</td>\n",
       "      <td>0.777427</td>\n",
       "      <td>0.762679</td>\n",
       "      <td>-1.661544</td>\n",
       "      <td>False</td>\n",
       "    </tr>\n",
       "    <tr>\n",
       "      <th>4</th>\n",
       "      <td>10</td>\n",
       "      <td>1.342423</td>\n",
       "      <td>1.612784</td>\n",
       "      <td>0.662758</td>\n",
       "      <td>0.781755</td>\n",
       "      <td>-1.732822</td>\n",
       "      <td>False</td>\n",
       "    </tr>\n",
       "  </tbody>\n",
       "</table>\n",
       "</div>"
      ],
      "text/plain": [
       "   stream  temperature  conductivity       doc        pH  discharge  \\\n",
       "0      10     1.273001      1.732394  0.828660  0.757396  -1.987163   \n",
       "1      10     1.311118      1.633468  0.804139  0.733999  -1.723538   \n",
       "2      10     1.327972      1.681241  0.705864  0.773786  -2.075721   \n",
       "3      10     1.302331      1.612784  0.777427  0.762679  -1.661544   \n",
       "4      10     1.342423      1.612784  0.662758  0.781755  -1.732822   \n",
       "\n",
       "   stream_is_missing  \n",
       "0              False  \n",
       "1              False  \n",
       "2              False  \n",
       "3              False  \n",
       "4              False  "
      ]
     },
     "execution_count": 111,
     "metadata": {},
     "output_type": "execute_result"
    }
   ],
   "source": [
    "# Independent variables (no target column)\n",
    "X.head()"
   ]
  },
  {
   "cell_type": "code",
   "execution_count": 112,
   "id": "ccc801f0",
   "metadata": {},
   "outputs": [
    {
     "data": {
      "text/plain": [
       "array([1, 1, 1, 1, 1, 1, 1, 1, 1, 1, 1, 1, 1, 1, 1, 1, 1, 1, 1, 1, 1, 1,\n",
       "       2, 2, 2, 2, 2, 2, 2, 2, 2, 2, 2, 2, 2, 2, 2, 2, 2, 2, 2, 2, 2, 2,\n",
       "       2, 2, 2, 2, 2, 2, 2, 2, 0, 0, 0, 0, 0, 0, 0, 0, 0, 0, 0, 0, 0, 0,\n",
       "       0, 0, 0, 0, 0, 0, 0, 1, 1, 1, 1, 1, 1, 1, 1, 1, 1, 1, 1, 1, 1, 1,\n",
       "       1, 1, 1, 1, 1, 1, 1, 1, 1, 0, 0, 0, 0, 0, 0, 0, 0, 0, 0, 0, 0, 0,\n",
       "       0, 0, 0, 0, 0])"
      ]
     },
     "execution_count": 112,
     "metadata": {},
     "output_type": "execute_result"
    }
   ],
   "source": [
    "# Targets\n",
    "y"
   ]
  },
  {
   "cell_type": "code",
   "execution_count": 113,
   "id": "894b6f3a",
   "metadata": {},
   "outputs": [],
   "source": [
    "#Random seed for reproducibility\n",
    "np.random.seed(42)\n",
    "\n",
    "# Split into train & test set\n",
    "X_train, X_test, y_train, y_test = train_test_split(X, # independent variables \n",
    "                                                    y, # dependent variable\n",
    "                                                    test_size = 0.2)"
   ]
  },
  {
   "cell_type": "code",
   "execution_count": 114,
   "id": "e1e41ded",
   "metadata": {},
   "outputs": [
    {
     "data": {
      "text/html": [
       "<div>\n",
       "<style scoped>\n",
       "    .dataframe tbody tr th:only-of-type {\n",
       "        vertical-align: middle;\n",
       "    }\n",
       "\n",
       "    .dataframe tbody tr th {\n",
       "        vertical-align: top;\n",
       "    }\n",
       "\n",
       "    .dataframe thead th {\n",
       "        text-align: right;\n",
       "    }\n",
       "</style>\n",
       "<table border=\"1\" class=\"dataframe\">\n",
       "  <thead>\n",
       "    <tr style=\"text-align: right;\">\n",
       "      <th></th>\n",
       "      <th>stream</th>\n",
       "      <th>temperature</th>\n",
       "      <th>conductivity</th>\n",
       "      <th>doc</th>\n",
       "      <th>pH</th>\n",
       "      <th>discharge</th>\n",
       "      <th>stream_is_missing</th>\n",
       "    </tr>\n",
       "  </thead>\n",
       "  <tbody>\n",
       "    <tr>\n",
       "      <th>31</th>\n",
       "      <td>12</td>\n",
       "      <td>1.380934</td>\n",
       "      <td>1.963788</td>\n",
       "      <td>0.318063</td>\n",
       "      <td>0.737987</td>\n",
       "      <td>-1.958607</td>\n",
       "      <td>False</td>\n",
       "    </tr>\n",
       "    <tr>\n",
       "      <th>67</th>\n",
       "      <td>14</td>\n",
       "      <td>1.273001</td>\n",
       "      <td>1.732394</td>\n",
       "      <td>0.828660</td>\n",
       "      <td>0.756636</td>\n",
       "      <td>-3.300544</td>\n",
       "      <td>False</td>\n",
       "    </tr>\n",
       "    <tr>\n",
       "      <th>93</th>\n",
       "      <td>8</td>\n",
       "      <td>1.369401</td>\n",
       "      <td>1.176091</td>\n",
       "      <td>0.668386</td>\n",
       "      <td>0.687529</td>\n",
       "      <td>-1.013228</td>\n",
       "      <td>False</td>\n",
       "    </tr>\n",
       "    <tr>\n",
       "      <th>109</th>\n",
       "      <td>9</td>\n",
       "      <td>1.323458</td>\n",
       "      <td>0.903090</td>\n",
       "      <td>0.632457</td>\n",
       "      <td>0.451786</td>\n",
       "      <td>-1.638272</td>\n",
       "      <td>False</td>\n",
       "    </tr>\n",
       "    <tr>\n",
       "      <th>22</th>\n",
       "      <td>11</td>\n",
       "      <td>1.292256</td>\n",
       "      <td>2.307496</td>\n",
       "      <td>0.324282</td>\n",
       "      <td>0.790285</td>\n",
       "      <td>-1.283162</td>\n",
       "      <td>False</td>\n",
       "    </tr>\n",
       "  </tbody>\n",
       "</table>\n",
       "</div>"
      ],
      "text/plain": [
       "     stream  temperature  conductivity       doc        pH  discharge  \\\n",
       "31       12     1.380934      1.963788  0.318063  0.737987  -1.958607   \n",
       "67       14     1.273001      1.732394  0.828660  0.756636  -3.300544   \n",
       "93        8     1.369401      1.176091  0.668386  0.687529  -1.013228   \n",
       "109       9     1.323458      0.903090  0.632457  0.451786  -1.638272   \n",
       "22       11     1.292256      2.307496  0.324282  0.790285  -1.283162   \n",
       "\n",
       "     stream_is_missing  \n",
       "31               False  \n",
       "67               False  \n",
       "93               False  \n",
       "109              False  \n",
       "22               False  "
      ]
     },
     "execution_count": 114,
     "metadata": {},
     "output_type": "execute_result"
    }
   ],
   "source": [
    "X_train.head()"
   ]
  },
  {
   "cell_type": "code",
   "execution_count": 115,
   "id": "518203fa",
   "metadata": {},
   "outputs": [
    {
     "data": {
      "text/plain": [
       "(array([2, 0, 1, 0, 2, 2, 0, 1, 1, 2, 1, 1, 2, 0, 0, 2, 2, 1, 0, 0, 2, 2,\n",
       "        1, 0, 2, 0, 1, 2, 0, 0, 2, 1, 1, 1, 2, 1, 1, 2, 1, 1, 2, 1, 1, 2,\n",
       "        1, 1, 1, 0, 1, 0, 2, 1, 2, 1, 0, 0, 1, 1, 2, 0, 2, 0, 0, 1, 2, 0,\n",
       "        0, 0, 1, 2, 2, 0, 1, 0, 1, 1, 2, 0, 1, 0, 1, 1, 1, 0, 1, 0, 0, 0,\n",
       "        1, 1, 2, 0]),\n",
       " 92)"
      ]
     },
     "execution_count": 115,
     "metadata": {},
     "output_type": "execute_result"
    }
   ],
   "source": [
    "y_train, len(y_train)"
   ]
  },
  {
   "cell_type": "code",
   "execution_count": 116,
   "id": "5be1024d",
   "metadata": {},
   "outputs": [
    {
     "data": {
      "text/html": [
       "<div>\n",
       "<style scoped>\n",
       "    .dataframe tbody tr th:only-of-type {\n",
       "        vertical-align: middle;\n",
       "    }\n",
       "\n",
       "    .dataframe tbody tr th {\n",
       "        vertical-align: top;\n",
       "    }\n",
       "\n",
       "    .dataframe thead th {\n",
       "        text-align: right;\n",
       "    }\n",
       "</style>\n",
       "<table border=\"1\" class=\"dataframe\">\n",
       "  <thead>\n",
       "    <tr style=\"text-align: right;\">\n",
       "      <th></th>\n",
       "      <th>stream</th>\n",
       "      <th>temperature</th>\n",
       "      <th>conductivity</th>\n",
       "      <th>doc</th>\n",
       "      <th>pH</th>\n",
       "      <th>discharge</th>\n",
       "      <th>stream_is_missing</th>\n",
       "    </tr>\n",
       "  </thead>\n",
       "  <tbody>\n",
       "    <tr>\n",
       "      <th>81</th>\n",
       "      <td>8</td>\n",
       "      <td>1.370143</td>\n",
       "      <td>1.255273</td>\n",
       "      <td>0.784617</td>\n",
       "      <td>0.748188</td>\n",
       "      <td>-0.954677</td>\n",
       "      <td>False</td>\n",
       "    </tr>\n",
       "    <tr>\n",
       "      <th>4</th>\n",
       "      <td>10</td>\n",
       "      <td>1.342423</td>\n",
       "      <td>1.612784</td>\n",
       "      <td>0.662758</td>\n",
       "      <td>0.781755</td>\n",
       "      <td>-1.732822</td>\n",
       "      <td>False</td>\n",
       "    </tr>\n",
       "    <tr>\n",
       "      <th>40</th>\n",
       "      <td>15</td>\n",
       "      <td>1.386142</td>\n",
       "      <td>2.290035</td>\n",
       "      <td>-0.017729</td>\n",
       "      <td>0.778151</td>\n",
       "      <td>-1.853872</td>\n",
       "      <td>False</td>\n",
       "    </tr>\n",
       "    <tr>\n",
       "      <th>69</th>\n",
       "      <td>14</td>\n",
       "      <td>1.268578</td>\n",
       "      <td>1.462398</td>\n",
       "      <td>0.863917</td>\n",
       "      <td>2.735599</td>\n",
       "      <td>-2.744727</td>\n",
       "      <td>False</td>\n",
       "    </tr>\n",
       "    <tr>\n",
       "      <th>10</th>\n",
       "      <td>4</td>\n",
       "      <td>1.243534</td>\n",
       "      <td>1.414973</td>\n",
       "      <td>0.752816</td>\n",
       "      <td>0.725095</td>\n",
       "      <td>-2.517126</td>\n",
       "      <td>False</td>\n",
       "    </tr>\n",
       "  </tbody>\n",
       "</table>\n",
       "</div>"
      ],
      "text/plain": [
       "    stream  temperature  conductivity       doc        pH  discharge  \\\n",
       "81       8     1.370143      1.255273  0.784617  0.748188  -0.954677   \n",
       "4       10     1.342423      1.612784  0.662758  0.781755  -1.732822   \n",
       "40      15     1.386142      2.290035 -0.017729  0.778151  -1.853872   \n",
       "69      14     1.268578      1.462398  0.863917  2.735599  -2.744727   \n",
       "10       4     1.243534      1.414973  0.752816  0.725095  -2.517126   \n",
       "\n",
       "    stream_is_missing  \n",
       "81              False  \n",
       "4               False  \n",
       "40              False  \n",
       "69              False  \n",
       "10              False  "
      ]
     },
     "execution_count": 116,
     "metadata": {},
     "output_type": "execute_result"
    }
   ],
   "source": [
    "X_test.head()"
   ]
  },
  {
   "cell_type": "code",
   "execution_count": 117,
   "id": "8be0ae6a",
   "metadata": {},
   "outputs": [
    {
     "data": {
      "text/plain": [
       "(array([1, 1, 2, 0, 1, 2, 0, 0, 2, 1, 0, 2, 1, 0, 1, 1, 0, 2, 0, 0, 1, 0,\n",
       "        1]),\n",
       " 23)"
      ]
     },
     "execution_count": 117,
     "metadata": {},
     "output_type": "execute_result"
    }
   ],
   "source": [
    "y_test, len(y_test)"
   ]
  },
  {
   "cell_type": "code",
   "execution_count": 118,
   "id": "941ec309",
   "metadata": {},
   "outputs": [],
   "source": [
    "# Put models in a dictionary\n",
    "models = {\"KNN\": KNeighborsClassifier(),\n",
    "          \"Logistic Regression\": LogisticRegression(), \n",
    "          \"Random Forest\": RandomForestClassifier()}\n",
    "\n",
    "# Create function to fit and score models\n",
    "def fit_and_score(models, X_train, X_test, y_train, y_test):\n",
    "    \"\"\"\n",
    "    Fits and evaluates given machine learning models.\n",
    "    models : a dict of different Scikit-Learn machine learning models\n",
    "    X_train : training data\n",
    "    X_test : testing data\n",
    "    y_train : labels assosciated with training data\n",
    "    y_test : labels assosciated with test data\n",
    "    \"\"\"\n",
    "    # Random seed for reproducible results\n",
    "    np.random.seed(42)\n",
    "    # Make a list to keep model scores\n",
    "    model_scores = {}\n",
    "    # Loop through models\n",
    "    for name, model in models.items():\n",
    "        # Fit the model to the data\n",
    "        model.fit(X_train, y_train)\n",
    "        # Evaluate the model and append its score to model_scores\n",
    "        model_scores[name] = model.score(X_test, y_test)\n",
    "    return model_scores"
   ]
  },
  {
   "cell_type": "code",
   "execution_count": 119,
   "id": "c09be17d",
   "metadata": {},
   "outputs": [
    {
     "name": "stderr",
     "output_type": "stream",
     "text": [
      "/Users/igorlima/Desktop/sample_project/env/lib/python3.10/site-packages/sklearn/linear_model/_logistic.py:444: ConvergenceWarning: lbfgs failed to converge (status=1):\n",
      "STOP: TOTAL NO. of ITERATIONS REACHED LIMIT.\n",
      "\n",
      "Increase the number of iterations (max_iter) or scale the data as shown in:\n",
      "    https://scikit-learn.org/stable/modules/preprocessing.html\n",
      "Please also refer to the documentation for alternative solver options:\n",
      "    https://scikit-learn.org/stable/modules/linear_model.html#logistic-regression\n",
      "  n_iter_i = _check_optimize_result(\n"
     ]
    },
    {
     "data": {
      "text/plain": [
       "{'KNN': 0.9130434782608695,\n",
       " 'Logistic Regression': 0.6521739130434783,\n",
       " 'Random Forest': 0.9130434782608695}"
      ]
     },
     "execution_count": 119,
     "metadata": {},
     "output_type": "execute_result"
    }
   ],
   "source": [
    "model_scores = fit_and_score(models=models,\n",
    "                             X_train=X_train,\n",
    "                             X_test=X_test,\n",
    "                             y_train=y_train,\n",
    "                             y_test=y_test)\n",
    "model_scores"
   ]
  },
  {
   "cell_type": "markdown",
   "id": "c6b4751f",
   "metadata": {},
   "source": [
    "# Model Comparison\n",
    "Since we've saved our models scores to a dictionary, we can plot them by first converting them to a DataFrame."
   ]
  },
  {
   "cell_type": "code",
   "execution_count": 120,
   "id": "d43afebb",
   "metadata": {},
   "outputs": [
    {
     "data": {
      "image/png": "[encoded data removed]",
      "text/plain": [
       "<Figure size 432x288 with 1 Axes>"
      ]
     },
     "metadata": {
      "needs_background": "light"
     },
     "output_type": "display_data"
    }
   ],
   "source": [
    "model_compare = pd.DataFrame(model_scores, index=['accuracy'])\n",
    "model_compare.T.plot.bar();"
   ]
  },
  {
   "cell_type": "code",
   "execution_count": 121,
   "id": "edcbfe59",
   "metadata": {},
   "outputs": [],
   "source": [
    "# Create a list of train scores\n",
    "train_scores = []\n",
    "\n",
    "# Create a list of test scores\n",
    "test_scores = []\n",
    "\n",
    "# Create a list of different values for n_neighbors\n",
    "neighbors = range(1, 21) # 1 to 20\n",
    "\n",
    "# Setup algorithm\n",
    "knn = KNeighborsClassifier()\n",
    "\n",
    "# Loop through different neighbors values\n",
    "for i in neighbors:\n",
    "    knn.set_params(n_neighbors = i) # set neighbors value\n",
    "    \n",
    "    # Fit the algorithm\n",
    "    knn.fit(X_train, y_train)\n",
    "    \n",
    "    # Update the training scores\n",
    "    train_scores.append(knn.score(X_train, y_train))\n",
    "    \n",
    "    # Update the test scores\n",
    "    test_scores.append(knn.score(X_test, y_test))"
   ]
  },
  {
   "cell_type": "code",
   "execution_count": 122,
   "id": "6db746de",
   "metadata": {},
   "outputs": [
    {
     "data": {
      "text/plain": [
       "[1.0,\n",
       " 0.9891304347826086,\n",
       " 0.9891304347826086,\n",
       " 0.967391304347826,\n",
       " 0.967391304347826,\n",
       " 0.9456521739130435,\n",
       " 0.9130434782608695,\n",
       " 0.8369565217391305,\n",
       " 0.7934782608695652,\n",
       " 0.782608695652174,\n",
       " 0.7391304347826086,\n",
       " 0.7065217391304348,\n",
       " 0.6956521739130435,\n",
       " 0.6739130434782609,\n",
       " 0.6630434782608695,\n",
       " 0.6739130434782609,\n",
       " 0.6413043478260869,\n",
       " 0.6847826086956522,\n",
       " 0.6847826086956522,\n",
       " 0.6847826086956522]"
      ]
     },
     "execution_count": 122,
     "metadata": {},
     "output_type": "execute_result"
    }
   ],
   "source": [
    "train_scores"
   ]
  },
  {
   "cell_type": "code",
   "execution_count": 123,
   "id": "6de092de",
   "metadata": {},
   "outputs": [
    {
     "data": {
      "text/plain": [
       "[1.0,\n",
       " 0.9130434782608695,\n",
       " 0.9130434782608695,\n",
       " 0.9130434782608695,\n",
       " 0.9130434782608695,\n",
       " 0.8260869565217391,\n",
       " 0.6956521739130435,\n",
       " 0.6086956521739131,\n",
       " 0.5652173913043478,\n",
       " 0.5652173913043478,\n",
       " 0.43478260869565216,\n",
       " 0.5217391304347826,\n",
       " 0.5217391304347826,\n",
       " 0.4782608695652174,\n",
       " 0.4782608695652174,\n",
       " 0.5217391304347826,\n",
       " 0.4782608695652174,\n",
       " 0.5217391304347826,\n",
       " 0.5217391304347826,\n",
       " 0.5217391304347826]"
      ]
     },
     "execution_count": 123,
     "metadata": {},
     "output_type": "execute_result"
    }
   ],
   "source": [
    "test_scores"
   ]
  },
  {
   "cell_type": "code",
   "execution_count": 124,
   "id": "b47e6874",
   "metadata": {},
   "outputs": [
    {
     "name": "stdout",
     "output_type": "stream",
     "text": [
      "Maximum KNN score on the test data: 100.00%\n"
     ]
    },
    {
     "data": {
      "image/png": "[encoded data removed]",
      "text/plain": [
       "<Figure size 432x288 with 1 Axes>"
      ]
     },
     "metadata": {
      "needs_background": "light"
     },
     "output_type": "display_data"
    }
   ],
   "source": [
    "plt.plot(neighbors, train_scores, label=\"Train score\")\n",
    "plt.plot(neighbors, test_scores, label=\"Test score\")\n",
    "plt.xticks(np.arange(1, 21, 1))\n",
    "plt.xlabel(\"Number of neighbors\")\n",
    "plt.ylabel(\"Model score\")\n",
    "plt.legend()\n",
    "\n",
    "print(f\"Maximum KNN score on the test data: {max(test_scores)*100:.2f}%\")\n"
   ]
  },
  {
   "cell_type": "markdown",
   "id": "09d3da8e",
   "metadata": {},
   "source": [
    "Looking at the graph, n_neighbors = 1 seems best. In this case, the object is simply assigned to the class of that single nearest neighbor. Because of this, we'll discard KNN and focus on the other two.\n",
    "\n",
    "We've tuned KNN by hand but let's see how we can LogisticsRegression and RandomForestClassifier using RandomizedSearchCV.\n",
    "\n",
    "Instead of us having to manually try different hyperparameters by hand, RandomizedSearchCV tries a number of different combinations, evaluates them and saves the best.\n",
    "\n",
    "## Tuning models with with RandomizedSearchCV\n",
    "Reading the Scikit-Learn documentation for \n",
    "* LogisticRegression(), we find there's a number of different hyperparameters we can tune.\n",
    "\n",
    "* The same for RandomForestClassifier()\n",
    "\n",
    "Let's create a hyperparameter grid (a dictionary of different hyperparameters) for each and then test them out."
   ]
  },
  {
   "cell_type": "code",
   "execution_count": 125,
   "id": "38e83a8e",
   "metadata": {},
   "outputs": [],
   "source": [
    "# Different LogisticRegression hyperparameters\n",
    "log_reg_grid = {\"C\": np.logspace(-4, 4, 20),\n",
    "                \"solver\": [\"liblinear\"]}\n",
    "\n",
    "# Different RandomForestClassifier hyperparameters\n",
    "rf_grid = {\"n_estimators\": np.arange(10, 1000, 50),\n",
    "           \"max_depth\": [None, 3, 5, 10],\n",
    "           \"min_samples_split\": np.arange(2, 20, 2),\n",
    "           \"min_samples_leaf\": np.arange(1, 20, 2)}"
   ]
  },
  {
   "cell_type": "markdown",
   "id": "2cda95d2",
   "metadata": {},
   "source": [
    "Now let's use RandomizedSearchCV to try and tune our LogisticRegression model.\n",
    "\n",
    "We'll pass it the different hyperparameters from log_reg_grid as well as set n_iter = 20. This means, RandomizedSearchCV will try 20 different combinations of hyperparameters from log_reg_grid and save the best ones"
   ]
  },
  {
   "cell_type": "code",
   "execution_count": 126,
   "id": "d14b0dd4",
   "metadata": {},
   "outputs": [
    {
     "name": "stdout",
     "output_type": "stream",
     "text": [
      "Fitting 5 folds for each of 20 candidates, totalling 100 fits\n"
     ]
    }
   ],
   "source": [
    "# Setup random seed\n",
    "np.random.seed(42)\n",
    "\n",
    "# Setup random hyperparameter search for LogisticRegression\n",
    "rs_log_reg = RandomizedSearchCV(LogisticRegression(),\n",
    "                                param_distributions=log_reg_grid,\n",
    "                                cv=5,\n",
    "                                n_iter=20,\n",
    "                                verbose=True)\n",
    "\n",
    "# Fit random hyperparameter search model\n",
    "rs_log_reg.fit(X_train, y_train);"
   ]
  },
  {
   "cell_type": "code",
   "execution_count": 127,
   "id": "9ae8031e",
   "metadata": {},
   "outputs": [
    {
     "data": {
      "text/plain": [
       "{'solver': 'liblinear', 'C': 4.281332398719396}"
      ]
     },
     "execution_count": 127,
     "metadata": {},
     "output_type": "execute_result"
    }
   ],
   "source": [
    "rs_log_reg.best_params_"
   ]
  },
  {
   "cell_type": "code",
   "execution_count": 128,
   "id": "12cba147",
   "metadata": {},
   "outputs": [
    {
     "data": {
      "text/plain": [
       "0.7391304347826086"
      ]
     },
     "execution_count": 128,
     "metadata": {},
     "output_type": "execute_result"
    }
   ],
   "source": [
    "rs_log_reg.score(X_test, y_test)"
   ]
  },
  {
   "cell_type": "markdown",
   "id": "8f157bfa",
   "metadata": {},
   "source": [
    "Now we've tuned LogisticRegression using RandomizedSearchCV, we'll do the same for RandomForestClassifier."
   ]
  },
  {
   "cell_type": "code",
   "execution_count": 130,
   "id": "0688cfda",
   "metadata": {},
   "outputs": [
    {
     "name": "stdout",
     "output_type": "stream",
     "text": [
      "Fitting 5 folds for each of 40 candidates, totalling 200 fits\n"
     ]
    }
   ],
   "source": [
    "# Setup random seed\n",
    "np.random.seed(42)\n",
    "\n",
    "# Setup random hyperparameter search for RandomForestClassifier\n",
    "rs_rf = RandomizedSearchCV(RandomForestClassifier(),\n",
    "                           param_distributions=rf_grid,\n",
    "                           cv=5,\n",
    "                           n_iter=40,\n",
    "                           verbose=True)\n",
    "\n",
    "# Fit random hyperparameter search model\n",
    "rs_rf.fit(X_train, y_train);"
   ]
  },
  {
   "cell_type": "code",
   "execution_count": 141,
   "id": "e283ef3a",
   "metadata": {},
   "outputs": [
    {
     "data": {
      "text/plain": [
       "{'n_estimators': 310,\n",
       " 'min_samples_split': 2,\n",
       " 'min_samples_leaf': 1,\n",
       " 'max_depth': 3}"
      ]
     },
     "execution_count": 141,
     "metadata": {},
     "output_type": "execute_result"
    }
   ],
   "source": [
    "# Find the best parameters\n",
    "rs_rf.best_params_"
   ]
  },
  {
   "cell_type": "code",
   "execution_count": 142,
   "id": "fd91676e",
   "metadata": {},
   "outputs": [
    {
     "data": {
      "text/plain": [
       "0.8695652173913043"
      ]
     },
     "execution_count": 142,
     "metadata": {},
     "output_type": "execute_result"
    }
   ],
   "source": [
    "# Evaluate the randomized search random forest model\n",
    "rs_rf.score(X_test, y_test)"
   ]
  },
  {
   "cell_type": "markdown",
   "id": "5b1af860",
   "metadata": {},
   "source": [
    "Tuning the hyperparameters for each model saw a slight performance boost in both the RandomForestClassifier and LogisticRegression.\n",
    "\n",
    "This is akin to tuning the settings on your oven and getting it to cook your favourite dish just right.\n",
    "\n",
    "But since LogisticRegression is pulling out in front, we'll try tuning it further with GridSearchCV.\n",
    "\n",
    "## Tuning a model with GridSearchCV\n",
    "The difference between RandomizedSearchCV and GridSearchCV is where RandomizedSearchCV searches over a grid of hyperparameters performing n_iter combinations, GridSearchCV will test every single possible combination.\n",
    "\n",
    "In short:\n",
    "\n",
    "RandomizedSearchCV - tries n_iter combinations of hyperparameters and saves the best.\n",
    "GridSearchCV - tries every single combination of hyperparameters and saves the best.\n",
    "Let's see it in action."
   ]
  },
  {
   "cell_type": "code",
   "execution_count": 133,
   "id": "2fae8371",
   "metadata": {},
   "outputs": [
    {
     "name": "stdout",
     "output_type": "stream",
     "text": [
      "Fitting 5 folds for each of 30 candidates, totalling 150 fits\n"
     ]
    }
   ],
   "source": [
    "# Different LogisticRegression hyperparameters\n",
    "log_reg_grid = {\"C\": np.logspace(-4, 4, 30),\n",
    "                \"solver\": [\"liblinear\"]}\n",
    "\n",
    "# Setup grid hyperparameter search for LogisticRegression\n",
    "gs_log_reg = GridSearchCV(LogisticRegression(),\n",
    "                          param_grid=log_reg_grid,\n",
    "                          cv=5,\n",
    "                          verbose=True)\n",
    "\n",
    "# Fit grid hyperparameter search model\n",
    "gs_log_reg.fit(X_train, y_train);"
   ]
  },
  {
   "cell_type": "code",
   "execution_count": 134,
   "id": "31235a7f",
   "metadata": {},
   "outputs": [
    {
     "data": {
      "text/plain": [
       "{'C': 1.3738237958832638, 'solver': 'liblinear'}"
      ]
     },
     "execution_count": 134,
     "metadata": {},
     "output_type": "execute_result"
    }
   ],
   "source": [
    "# Check the best parameters\n",
    "gs_log_reg.best_params_"
   ]
  },
  {
   "cell_type": "code",
   "execution_count": 135,
   "id": "161a1798",
   "metadata": {},
   "outputs": [
    {
     "data": {
      "text/plain": [
       "0.7391304347826086"
      ]
     },
     "execution_count": 135,
     "metadata": {},
     "output_type": "execute_result"
    }
   ],
   "source": [
    "# Evaluate the model\n",
    "gs_log_reg.score(X_test, y_test)"
   ]
  },
  {
   "cell_type": "markdown",
   "id": "5f18c628",
   "metadata": {},
   "source": [
    "### Result"
   ]
  },
  {
   "cell_type": "code",
   "execution_count": 143,
   "id": "0fe48623",
   "metadata": {},
   "outputs": [
    {
     "data": {
      "text/plain": [
       "{'KNN': 0.9130434782608695,\n",
       " 'Logistic Regression': 0.6521739130434783,\n",
       " 'Random Forest': 0.9130434782608695}"
      ]
     },
     "execution_count": 143,
     "metadata": {},
     "output_type": "execute_result"
    }
   ],
   "source": [
    "model_scores"
   ]
  },
  {
   "cell_type": "markdown",
   "id": "67685882",
   "metadata": {},
   "source": [
    "\n",
    "## Evaluating a classification model, beyond accuracy\n",
    "\n",
    "* Confusion matrix - confusion_matrix()\n",
    "* Classification report - classification_report()\n",
    "* Precision - precision_score()\n",
    "* Recall - recall_score()\n",
    "* F1-score - f1_score()"
   ]
  },
  {
   "cell_type": "code",
   "execution_count": 144,
   "id": "dde93cfc",
   "metadata": {},
   "outputs": [],
   "source": [
    "# Make preidctions on test data\n",
    "y_preds = rs_rf.predict(X_test)"
   ]
  },
  {
   "cell_type": "code",
   "execution_count": 145,
   "id": "176d443b",
   "metadata": {},
   "outputs": [
    {
     "data": {
      "text/plain": [
       "array([1, 1, 2, 0, 1, 2, 0, 0, 2, 1, 0, 2, 1, 0, 1, 1, 0, 2, 0, 0, 1, 0,\n",
       "       1])"
      ]
     },
     "execution_count": 145,
     "metadata": {},
     "output_type": "execute_result"
    }
   ],
   "source": [
    "y_test"
   ]
  },
  {
   "cell_type": "code",
   "execution_count": 146,
   "id": "bc3798a9",
   "metadata": {},
   "outputs": [
    {
     "data": {
      "text/plain": [
       "array([1, 1, 2, 0, 0, 2, 0, 0, 2, 1, 0, 2, 1, 0, 1, 0, 0, 2, 0, 0, 1, 0,\n",
       "       0])"
      ]
     },
     "execution_count": 146,
     "metadata": {},
     "output_type": "execute_result"
    }
   ],
   "source": [
    "y_preds"
   ]
  },
  {
   "cell_type": "markdown",
   "id": "f03abb69",
   "metadata": {},
   "source": [
    "## Confusion matrix\n",
    "A confusion matrix is a visual way to show where your model made the right predictions and where it made the wrong predictions (or in other words, got confused).\n",
    "\n",
    "Scikit-Learn allows us to create a confusion matrix using confusion_matrix() and passing it the true labels and predicted labels."
   ]
  },
  {
   "cell_type": "code",
   "execution_count": 147,
   "id": "9f05ce3b",
   "metadata": {},
   "outputs": [
    {
     "name": "stdout",
     "output_type": "stream",
     "text": [
      "[[9 0 0]\n",
      " [3 6 0]\n",
      " [0 0 5]]\n"
     ]
    }
   ],
   "source": [
    "# Display confusion matrix\n",
    "print(confusion_matrix(y_test, y_preds))"
   ]
  },
  {
   "cell_type": "code",
   "execution_count": 148,
   "id": "b52777a7",
   "metadata": {},
   "outputs": [
    {
     "data": {
      "image/png": "[encoded data removed]",
      "text/plain": [
       "<Figure size 216x216 with 1 Axes>"
      ]
     },
     "metadata": {},
     "output_type": "display_data"
    }
   ],
   "source": [
    "sns.set(font_scale=1.5) # Increase font size\n",
    "\n",
    "def plot_conf_mat(y_test, y_preds):\n",
    "    \"\"\"\n",
    "    Plots a confusion matrix using Seaborn's heatmap().\n",
    "    \"\"\"\n",
    "    fig, ax = plt.subplots(figsize=(3, 3))\n",
    "    ax = sns.heatmap(confusion_matrix(y_test, y_preds),\n",
    "                     annot=True, # Annotate the boxes\n",
    "                     cbar=False)\n",
    "    plt.xlabel(\"true label\")\n",
    "    plt.ylabel(\"predicted label\")\n",
    "    \n",
    "plot_conf_mat(y_test, y_preds)"
   ]
  },
  {
   "cell_type": "markdown",
   "id": "8c051c0f",
   "metadata": {},
   "source": [
    "There are 2 occasaions where the model predicted 1 when it should've been 0 and 1 occasion where the model predicted 1 instead of 2.\n",
    "\n",
    "## Classification report\n",
    "\n",
    "A classification report will also give us information of the precision and recall of our model for each class."
   ]
  },
  {
   "cell_type": "code",
   "execution_count": 149,
   "id": "5af68ba7",
   "metadata": {},
   "outputs": [
    {
     "name": "stdout",
     "output_type": "stream",
     "text": [
      "              precision    recall  f1-score   support\n",
      "\n",
      "           0       0.75      1.00      0.86         9\n",
      "           1       1.00      0.67      0.80         9\n",
      "           2       1.00      1.00      1.00         5\n",
      "\n",
      "    accuracy                           0.87        23\n",
      "   macro avg       0.92      0.89      0.89        23\n",
      "weighted avg       0.90      0.87      0.87        23\n",
      "\n"
     ]
    }
   ],
   "source": [
    "# Show classification report\n",
    "print(classification_report(y_test, y_preds))"
   ]
  },
  {
   "cell_type": "markdown",
   "id": "9fa5c5bc",
   "metadata": {},
   "source": [
    "* Precision - Indicates the proportion of positive identifications (model predicted class 1) which were actually correct. A model which produces no false positives has a precision of 1.0.\n",
    "* Recall - Indicates the proportion of actual positives which were correctly classified. A model which produces no false negatives has a recall of 1.0.\n",
    "* F1 score - A combination of precision and recall. A perfect model achieves an F1 score of 1.0.\n",
    "* Support - The number of samples each metric was calculated on.\n",
    "* Accuracy - The accuracy of the model in decimal form. Perfect accuracy is equal to 1.0.\n",
    "* Macro avg - Short for macro average, the average precision, recall and F1 score between classes. Macro avg doesn’t class imbalance into effort, so if you do have class imbalances, pay attention to this metric.\n",
    "* Weighted avg - Short for weighted average, the weighted average precision, recall and F1 score between classes. Weighted means each metric is calculated with respect to how many samples there are in each class. This metric will favour the majority class (e.g. will give a high value when one class out performs another due to having more samples)."
   ]
  },
  {
   "cell_type": "markdown",
   "id": "e95c2825",
   "metadata": {},
   "source": [
    "## Feature importance\n",
    "Feature importance is another way of asking, \"which features contributing most to the outcomes of the model?\"\n",
    "\n",
    "Or for our problem, trying to predict heart disease using a patient's medical characterisitcs, which charateristics contribute most to a model predicting whether someone has heart disease or not?\n",
    "\n",
    "Unlike some of the other functions we've seen, because how each model finds patterns in data is slightly different, how a model judges how important those patterns are is different as well. This means for each model, there's a slightly different way of finding which features were most important.\n",
    "\n",
    "You can usually find an example via the Scikit-Learn documentation or via searching for something like \"[MODEL TYPE] feature importance\", such as, \"random forest feature importance\".\n",
    "\n",
    "Since we're using LogisticRegression, we'll look at one way we can calculate feature importance for it.\n",
    "\n",
    "To do so, we'll use the coef_ attribute. Looking at the Scikit-Learn documentation for LogisticRegression, the coef_ attribute is the coefficient of the features in the decision function.\n",
    "\n",
    "We can access the coef_ attribute after we've fit an instance of LogisticRegression."
   ]
  },
  {
   "cell_type": "code",
   "execution_count": 150,
   "id": "c06f20d9",
   "metadata": {},
   "outputs": [],
   "source": [
    "# Fit an instance of LogisticRegression (taken from above)\n",
    "clf = RandomForestClassifier(n_estimators = 310)\n",
    "clf.fit(X_train, y_train);"
   ]
  },
  {
   "cell_type": "code",
   "execution_count": 151,
   "id": "e5024bcb",
   "metadata": {},
   "outputs": [
    {
     "data": {
      "text/plain": [
       "array([0.08780872, 0.13605731, 0.32172661, 0.15771534, 0.13048088,\n",
       "       0.16621114, 0.        ])"
      ]
     },
     "execution_count": 151,
     "metadata": {},
     "output_type": "execute_result"
    }
   ],
   "source": [
    "# Check coef_\n",
    "clf.feature_importances_"
   ]
  },
  {
   "cell_type": "code",
   "execution_count": 152,
   "id": "8ec12ae7",
   "metadata": {},
   "outputs": [
    {
     "data": {
      "text/plain": [
       "{'stream': 0.08780872106842548,\n",
       " 'temperature': 0.13605730787504394,\n",
       " 'conductivity': 0.3217266085148772,\n",
       " 'doc': 0.15771534228304937,\n",
       " 'pH': 0.1304808812601955,\n",
       " 'discharge': 0.16621113899840856,\n",
       " 'target': 0.0}"
      ]
     },
     "execution_count": 152,
     "metadata": {},
     "output_type": "execute_result"
    }
   ],
   "source": [
    "# Match features to columns\n",
    "features_dict = dict(zip(df.columns, list(clf.feature_importances_)))\n",
    "features_dict"
   ]
  },
  {
   "cell_type": "markdown",
   "id": "8b2cebee",
   "metadata": {},
   "source": [
    "Now we've match the feature coefficients to different features, let's visualize them."
   ]
  },
  {
   "cell_type": "code",
   "execution_count": 153,
   "id": "d0836fc1",
   "metadata": {},
   "outputs": [
    {
     "data": {
      "image/png": "[encoded data removed]",
      "text/plain": [
       "<Figure size 432x288 with 1 Axes>"
      ]
     },
     "metadata": {},
     "output_type": "display_data"
    }
   ],
   "source": [
    "# Visualize feature importance\n",
    "features_df = pd.DataFrame(features_dict, index=[0])\n",
    "features_df.T.plot.bar(title=\"Feature Importance\", legend=False);"
   ]
  },
  {
   "cell_type": "code",
   "execution_count": 154,
   "id": "4b3e14d6",
   "metadata": {},
   "outputs": [],
   "source": [
    "import pickle\n",
    "\n",
    "# Save the model to file \n",
    "pickle.dump(clf, open(\"RandomForestClassifier_land_use_clssification.pkl\", \"wb\"))"
   ]
  }
 ],
 "metadata": {
  "kernelspec": {
   "display_name": "Python 3 (ipykernel)",
   "language": "python",
   "name": "python3"
  },
  "language_info": {
   "codemirror_mode": {
    "name": "ipython",
    "version": 3
   },
   "file_extension": ".py",
   "mimetype": "text/x-python",
   "name": "python",
   "nbconvert_exporter": "python",
   "pygments_lexer": "ipython3",
   "version": "3.10.4"
  }
 },
 "nbformat": 4,
 "nbformat_minor": 5
}
